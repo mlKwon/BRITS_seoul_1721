{
 "cells": [
  {
   "cell_type": "code",
   "execution_count": 2,
   "id": "1dd15035",
   "metadata": {},
   "outputs": [],
   "source": [
    "from torch.autograd import Variable\n",
    "import torch\n",
    "import pandas as pd\n",
    "\n",
    "def to_var(var):\n",
    "    if torch.is_tensor(var):\n",
    "#         var = Variable(var)\n",
    "        var = torch.tensor(var)\n",
    "        if torch.cuda.is_available():\n",
    "            var = var.cuda()\n",
    "        return var\n",
    "    if isinstance(var, int) or isinstance(var, float) or isinstance(var, str):\n",
    "        return var\n",
    "    if isinstance(var, dict):\n",
    "        for key in var:\n",
    "            var[key] = to_var(var[key])\n",
    "        return var\n",
    "    if isinstance(var, list):\n",
    "        var = map(lambda x: to_var(x), var)\n",
    "        return var\n",
    "\n",
    "def stop_gradient(x):\n",
    "    if isinstance(x, float):\n",
    "        return x\n",
    "    if isinstance(x, tuple):\n",
    "        return tuple(map(lambda y: Variable(y.data), x))\n",
    "    return Variable(x.data)\n",
    "\n",
    "def zero_var(sz):\n",
    "    x = Variable(torch.zeros(sz))\n",
    "    if torch.cuda.is_available():\n",
    "        x = x.cuda()\n",
    "    return x"
   ]
  }
 ],
 "metadata": {
  "kernelspec": {
   "display_name": "Python 3",
   "language": "python",
   "name": "python3"
  },
  "language_info": {
   "codemirror_mode": {
    "name": "ipython",
    "version": 3
   },
   "file_extension": ".py",
   "mimetype": "text/x-python",
   "name": "python",
   "nbconvert_exporter": "python",
   "pygments_lexer": "ipython3",
   "version": "3.8.8"
  }
 },
 "nbformat": 4,
 "nbformat_minor": 5
}
