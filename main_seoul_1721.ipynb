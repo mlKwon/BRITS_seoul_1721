{
 "cells": [
  {
   "cell_type": "code",
   "execution_count": 1,
   "id": "48ba895c",
   "metadata": {
    "scrolled": false
   },
   "outputs": [
    {
     "name": "stderr",
     "output_type": "stream",
     "text": [
      "\r",
      "  0%|                                                                                          | 0/200 [00:00<?, ?it/s]"
     ]
    },
    {
     "name": "stdout",
     "output_type": "stream",
     "text": [
      "\n",
      "rits\n"
     ]
    },
    {
     "name": "stderr",
     "output_type": "stream",
     "text": [
      "loss: 816.455:   0%|▎                                                                | 1/200 [00:45<2:29:55, 45.20s/it]"
     ]
    },
    {
     "name": "stdout",
     "output_type": "stream",
     "text": [
      "loss: 816.455, MAE: 10.282, RMSE: 15.287\n"
     ]
    },
    {
     "name": "stderr",
     "output_type": "stream",
     "text": [
      "loss: 593.680:   1%|▋                                                                | 2/200 [01:29<2:27:16, 44.63s/it]"
     ]
    },
    {
     "name": "stdout",
     "output_type": "stream",
     "text": [
      "loss: 593.680, MAE: 6.011, RMSE: 8.768\n"
     ]
    },
    {
     "name": "stderr",
     "output_type": "stream",
     "text": [
      "loss: 540.788:   2%|▉                                                                | 3/200 [02:13<2:25:10, 44.21s/it]"
     ]
    },
    {
     "name": "stdout",
     "output_type": "stream",
     "text": [
      "loss: 540.788, MAE: 5.816, RMSE: 8.491\n"
     ]
    },
    {
     "name": "stderr",
     "output_type": "stream",
     "text": [
      "loss: 512.952:   2%|█▎                                                               | 4/200 [02:56<2:23:37, 43.96s/it]"
     ]
    },
    {
     "name": "stdout",
     "output_type": "stream",
     "text": [
      "loss: 512.952, MAE: 5.823, RMSE: 8.612\n"
     ]
    },
    {
     "name": "stderr",
     "output_type": "stream",
     "text": [
      "loss: 483.484:   2%|█▋                                                               | 5/200 [03:40<2:22:34, 43.87s/it]"
     ]
    },
    {
     "name": "stdout",
     "output_type": "stream",
     "text": [
      "loss: 483.484, MAE: 5.605, RMSE: 8.292\n"
     ]
    },
    {
     "name": "stderr",
     "output_type": "stream",
     "text": [
      "loss: 464.911:   3%|█▉                                                               | 6/200 [04:26<2:23:44, 44.46s/it]"
     ]
    },
    {
     "name": "stdout",
     "output_type": "stream",
     "text": [
      "loss: 464.911, MAE: 5.582, RMSE: 8.255\n"
     ]
    },
    {
     "name": "stderr",
     "output_type": "stream",
     "text": [
      "loss: 469.066:   4%|██▎                                                              | 7/200 [05:09<2:22:17, 44.23s/it]"
     ]
    },
    {
     "name": "stdout",
     "output_type": "stream",
     "text": [
      "loss: 469.066, MAE: 5.408, RMSE: 7.973\n"
     ]
    },
    {
     "name": "stderr",
     "output_type": "stream",
     "text": [
      "loss: 436.693:   4%|██▌                                                              | 8/200 [05:54<2:22:10, 44.43s/it]"
     ]
    },
    {
     "name": "stdout",
     "output_type": "stream",
     "text": [
      "loss: 436.693, MAE: 5.318, RMSE: 7.807\n"
     ]
    },
    {
     "name": "stderr",
     "output_type": "stream",
     "text": [
      "loss: 444.022:   4%|██▉                                                              | 9/200 [06:37<2:19:28, 43.82s/it]"
     ]
    },
    {
     "name": "stdout",
     "output_type": "stream",
     "text": [
      "loss: 444.022, MAE: 5.286, RMSE: 7.798\n"
     ]
    },
    {
     "name": "stderr",
     "output_type": "stream",
     "text": [
      "loss: 400.231:   5%|███▏                                                            | 10/200 [07:19<2:17:16, 43.35s/it]"
     ]
    },
    {
     "name": "stdout",
     "output_type": "stream",
     "text": [
      "loss: 400.231, MAE: 5.157, RMSE: 7.684\n"
     ]
    },
    {
     "name": "stderr",
     "output_type": "stream",
     "text": [
      "loss: 398.703:   6%|███▌                                                            | 11/200 [08:03<2:16:54, 43.46s/it]"
     ]
    },
    {
     "name": "stdout",
     "output_type": "stream",
     "text": [
      "loss: 398.703, MAE: 5.146, RMSE: 7.648\n"
     ]
    },
    {
     "name": "stderr",
     "output_type": "stream",
     "text": [
      "loss: 383.166:   6%|███▊                                                            | 12/200 [08:47<2:16:50, 43.67s/it]"
     ]
    },
    {
     "name": "stdout",
     "output_type": "stream",
     "text": [
      "loss: 383.166, MAE: 5.035, RMSE: 7.487\n"
     ]
    },
    {
     "name": "stderr",
     "output_type": "stream",
     "text": [
      "loss: 368.144:   6%|████▏                                                           | 13/200 [09:30<2:15:55, 43.61s/it]"
     ]
    },
    {
     "name": "stdout",
     "output_type": "stream",
     "text": [
      "loss: 368.144, MAE: 4.958, RMSE: 7.377\n"
     ]
    },
    {
     "name": "stderr",
     "output_type": "stream",
     "text": [
      "loss: 354.635:   7%|████▍                                                           | 14/200 [10:14<2:14:56, 43.53s/it]"
     ]
    },
    {
     "name": "stdout",
     "output_type": "stream",
     "text": [
      "loss: 354.635, MAE: 4.979, RMSE: 7.427\n"
     ]
    },
    {
     "name": "stderr",
     "output_type": "stream",
     "text": [
      "loss: 353.506:   8%|████▊                                                           | 15/200 [10:57<2:13:53, 43.42s/it]"
     ]
    },
    {
     "name": "stdout",
     "output_type": "stream",
     "text": [
      "loss: 353.506, MAE: 4.908, RMSE: 7.335\n"
     ]
    },
    {
     "name": "stderr",
     "output_type": "stream",
     "text": [
      "loss: 346.858:   8%|█████                                                           | 16/200 [11:39<2:12:24, 43.18s/it]"
     ]
    },
    {
     "name": "stdout",
     "output_type": "stream",
     "text": [
      "loss: 346.858, MAE: 4.885, RMSE: 7.271\n"
     ]
    },
    {
     "name": "stderr",
     "output_type": "stream",
     "text": [
      "loss: 334.522:   8%|█████▍                                                          | 17/200 [12:22<2:10:54, 42.92s/it]"
     ]
    },
    {
     "name": "stdout",
     "output_type": "stream",
     "text": [
      "loss: 334.522, MAE: 4.786, RMSE: 7.155\n"
     ]
    },
    {
     "name": "stderr",
     "output_type": "stream",
     "text": [
      "loss: 335.350:   9%|█████▊                                                          | 18/200 [13:04<2:09:42, 42.76s/it]"
     ]
    },
    {
     "name": "stdout",
     "output_type": "stream",
     "text": [
      "loss: 335.350, MAE: 4.735, RMSE: 7.094\n"
     ]
    },
    {
     "name": "stderr",
     "output_type": "stream",
     "text": [
      "loss: 316.594:  10%|██████                                                          | 19/200 [13:47<2:08:50, 42.71s/it]"
     ]
    },
    {
     "name": "stdout",
     "output_type": "stream",
     "text": [
      "loss: 316.594, MAE: 4.788, RMSE: 7.235\n"
     ]
    },
    {
     "name": "stderr",
     "output_type": "stream",
     "text": [
      "loss: 315.571:  10%|██████▍                                                         | 20/200 [14:29<2:07:47, 42.60s/it]"
     ]
    },
    {
     "name": "stdout",
     "output_type": "stream",
     "text": [
      "loss: 315.571, MAE: 4.645, RMSE: 6.932\n"
     ]
    },
    {
     "name": "stderr",
     "output_type": "stream",
     "text": [
      "loss: 301.262:  10%|██████▋                                                         | 21/200 [15:11<2:06:51, 42.52s/it]"
     ]
    },
    {
     "name": "stdout",
     "output_type": "stream",
     "text": [
      "loss: 301.262, MAE: 4.637, RMSE: 6.981\n"
     ]
    },
    {
     "name": "stderr",
     "output_type": "stream",
     "text": [
      "loss: 304.583:  11%|███████                                                         | 22/200 [15:54<2:06:10, 42.53s/it]"
     ]
    },
    {
     "name": "stdout",
     "output_type": "stream",
     "text": [
      "loss: 304.583, MAE: 4.561, RMSE: 6.792\n"
     ]
    },
    {
     "name": "stderr",
     "output_type": "stream",
     "text": [
      "loss: 302.858:  12%|███████▎                                                        | 23/200 [16:36<2:05:28, 42.53s/it]"
     ]
    },
    {
     "name": "stdout",
     "output_type": "stream",
     "text": [
      "loss: 302.858, MAE: 4.633, RMSE: 6.976\n"
     ]
    },
    {
     "name": "stderr",
     "output_type": "stream",
     "text": [
      "loss: 288.516:  12%|███████▋                                                        | 24/200 [17:19<2:04:52, 42.57s/it]"
     ]
    },
    {
     "name": "stdout",
     "output_type": "stream",
     "text": [
      "loss: 288.516, MAE: 4.587, RMSE: 6.862\n"
     ]
    },
    {
     "name": "stderr",
     "output_type": "stream",
     "text": [
      "loss: 286.522:  12%|████████                                                        | 25/200 [18:02<2:04:04, 42.54s/it]"
     ]
    },
    {
     "name": "stdout",
     "output_type": "stream",
     "text": [
      "loss: 286.522, MAE: 4.535, RMSE: 6.838\n"
     ]
    },
    {
     "name": "stderr",
     "output_type": "stream",
     "text": [
      "loss: 279.518:  13%|████████▎                                                       | 26/200 [18:44<2:03:08, 42.46s/it]"
     ]
    },
    {
     "name": "stdout",
     "output_type": "stream",
     "text": [
      "loss: 279.518, MAE: 4.480, RMSE: 6.756\n"
     ]
    },
    {
     "name": "stderr",
     "output_type": "stream",
     "text": [
      "loss: 294.904:  14%|████████▋                                                       | 27/200 [19:26<2:02:23, 42.45s/it]"
     ]
    },
    {
     "name": "stdout",
     "output_type": "stream",
     "text": [
      "loss: 294.904, MAE: 4.502, RMSE: 6.760\n"
     ]
    },
    {
     "name": "stderr",
     "output_type": "stream",
     "text": [
      "loss: 287.031:  14%|████████▉                                                       | 28/200 [20:09<2:01:36, 42.42s/it]"
     ]
    },
    {
     "name": "stdout",
     "output_type": "stream",
     "text": [
      "loss: 287.031, MAE: 4.437, RMSE: 6.685\n"
     ]
    },
    {
     "name": "stderr",
     "output_type": "stream",
     "text": [
      "loss: 275.858:  14%|█████████▎                                                      | 29/200 [20:51<2:00:52, 42.42s/it]"
     ]
    },
    {
     "name": "stdout",
     "output_type": "stream",
     "text": [
      "loss: 275.858, MAE: 4.497, RMSE: 6.876\n"
     ]
    },
    {
     "name": "stderr",
     "output_type": "stream",
     "text": [
      "loss: 270.937:  15%|█████████▌                                                      | 30/200 [21:34<2:00:27, 42.51s/it]"
     ]
    },
    {
     "name": "stdout",
     "output_type": "stream",
     "text": [
      "loss: 270.937, MAE: 4.463, RMSE: 6.778\n"
     ]
    },
    {
     "name": "stderr",
     "output_type": "stream",
     "text": [
      "loss: 265.225:  16%|█████████▉                                                      | 31/200 [22:16<1:59:49, 42.54s/it]"
     ]
    },
    {
     "name": "stdout",
     "output_type": "stream",
     "text": [
      "loss: 265.225, MAE: 4.440, RMSE: 6.745\n"
     ]
    },
    {
     "name": "stderr",
     "output_type": "stream",
     "text": [
      "loss: 272.663:  16%|██████████▏                                                     | 32/200 [22:59<1:58:55, 42.47s/it]"
     ]
    },
    {
     "name": "stdout",
     "output_type": "stream",
     "text": [
      "loss: 272.663, MAE: 4.443, RMSE: 6.717\n"
     ]
    },
    {
     "name": "stderr",
     "output_type": "stream",
     "text": [
      "loss: 265.306:  16%|██████████▌                                                     | 33/200 [23:41<1:58:05, 42.43s/it]"
     ]
    },
    {
     "name": "stdout",
     "output_type": "stream",
     "text": [
      "loss: 265.306, MAE: 4.365, RMSE: 6.590\n"
     ]
    },
    {
     "name": "stderr",
     "output_type": "stream",
     "text": [
      "loss: 260.242:  17%|██████████▉                                                     | 34/200 [24:23<1:57:15, 42.38s/it]"
     ]
    },
    {
     "name": "stdout",
     "output_type": "stream",
     "text": [
      "loss: 260.242, MAE: 4.367, RMSE: 6.603\n"
     ]
    },
    {
     "name": "stderr",
     "output_type": "stream",
     "text": [
      "loss: 262.377:  18%|███████████▏                                                    | 35/200 [25:06<1:56:36, 42.40s/it]"
     ]
    },
    {
     "name": "stdout",
     "output_type": "stream",
     "text": [
      "loss: 262.377, MAE: 4.363, RMSE: 6.567\n"
     ]
    },
    {
     "name": "stderr",
     "output_type": "stream",
     "text": [
      "loss: 250.434:  18%|███████████▌                                                    | 36/200 [25:48<1:55:47, 42.36s/it]"
     ]
    },
    {
     "name": "stdout",
     "output_type": "stream",
     "text": [
      "loss: 250.434, MAE: 4.400, RMSE: 6.703\n"
     ]
    },
    {
     "name": "stderr",
     "output_type": "stream",
     "text": [
      "loss: 264.205:  18%|███████████▊                                                    | 37/200 [26:30<1:55:02, 42.35s/it]"
     ]
    },
    {
     "name": "stdout",
     "output_type": "stream",
     "text": [
      "loss: 264.205, MAE: 4.298, RMSE: 6.453\n"
     ]
    },
    {
     "name": "stderr",
     "output_type": "stream",
     "text": [
      "loss: 252.441:  19%|████████████▏                                                   | 38/200 [27:13<1:54:22, 42.36s/it]"
     ]
    },
    {
     "name": "stdout",
     "output_type": "stream",
     "text": [
      "loss: 252.441, MAE: 4.332, RMSE: 6.580\n"
     ]
    },
    {
     "name": "stderr",
     "output_type": "stream",
     "text": [
      "loss: 248.329:  20%|████████████▍                                                   | 39/200 [27:56<1:54:09, 42.54s/it]"
     ]
    },
    {
     "name": "stdout",
     "output_type": "stream",
     "text": [
      "loss: 248.329, MAE: 4.390, RMSE: 6.695\n"
     ]
    },
    {
     "name": "stderr",
     "output_type": "stream",
     "text": [
      "loss: 246.648:  20%|████████████▊                                                   | 40/200 [28:38<1:53:15, 42.47s/it]"
     ]
    },
    {
     "name": "stdout",
     "output_type": "stream",
     "text": [
      "loss: 246.648, MAE: 4.365, RMSE: 6.681\n"
     ]
    },
    {
     "name": "stderr",
     "output_type": "stream",
     "text": [
      "loss: 244.212:  20%|█████████████                                                   | 41/200 [29:20<1:52:31, 42.46s/it]"
     ]
    },
    {
     "name": "stdout",
     "output_type": "stream",
     "text": [
      "loss: 244.212, MAE: 4.334, RMSE: 6.567\n"
     ]
    },
    {
     "name": "stderr",
     "output_type": "stream",
     "text": [
      "loss: 240.997:  21%|█████████████▍                                                  | 42/200 [30:03<1:51:46, 42.44s/it]"
     ]
    },
    {
     "name": "stdout",
     "output_type": "stream",
     "text": [
      "loss: 240.997, MAE: 4.284, RMSE: 6.518\n"
     ]
    },
    {
     "name": "stderr",
     "output_type": "stream",
     "text": [
      "loss: 258.127:  22%|█████████████▊                                                  | 43/200 [30:45<1:51:03, 42.44s/it]"
     ]
    },
    {
     "name": "stdout",
     "output_type": "stream",
     "text": [
      "loss: 258.127, MAE: 4.328, RMSE: 6.553\n"
     ]
    },
    {
     "name": "stderr",
     "output_type": "stream",
     "text": [
      "loss: 240.981:  22%|██████████████                                                  | 44/200 [31:29<1:51:29, 42.88s/it]"
     ]
    },
    {
     "name": "stdout",
     "output_type": "stream",
     "text": [
      "loss: 240.981, MAE: 4.289, RMSE: 6.444\n"
     ]
    },
    {
     "name": "stderr",
     "output_type": "stream",
     "text": [
      "loss: 241.261:  22%|██████████████▍                                                 | 45/200 [32:12<1:50:29, 42.77s/it]"
     ]
    },
    {
     "name": "stdout",
     "output_type": "stream",
     "text": [
      "loss: 241.261, MAE: 4.300, RMSE: 6.542\n"
     ]
    },
    {
     "name": "stderr",
     "output_type": "stream",
     "text": [
      "loss: 239.943:  23%|██████████████▋                                                 | 46/200 [32:54<1:49:24, 42.63s/it]"
     ]
    },
    {
     "name": "stdout",
     "output_type": "stream",
     "text": [
      "loss: 239.943, MAE: 4.329, RMSE: 6.644\n"
     ]
    },
    {
     "name": "stderr",
     "output_type": "stream",
     "text": [
      "loss: 237.488:  24%|███████████████                                                 | 47/200 [33:37<1:48:39, 42.61s/it]"
     ]
    },
    {
     "name": "stdout",
     "output_type": "stream",
     "text": [
      "loss: 237.488, MAE: 4.335, RMSE: 6.630\n"
     ]
    },
    {
     "name": "stderr",
     "output_type": "stream",
     "text": [
      "loss: 235.803:  24%|███████████████▎                                                | 48/200 [34:19<1:47:45, 42.54s/it]"
     ]
    },
    {
     "name": "stdout",
     "output_type": "stream",
     "text": [
      "loss: 235.803, MAE: 4.319, RMSE: 6.552\n"
     ]
    },
    {
     "name": "stderr",
     "output_type": "stream",
     "text": [
      "loss: 232.122:  24%|███████████████▋                                                | 49/200 [35:01<1:47:00, 42.52s/it]"
     ]
    },
    {
     "name": "stdout",
     "output_type": "stream",
     "text": [
      "loss: 232.122, MAE: 4.303, RMSE: 6.538\n"
     ]
    },
    {
     "name": "stderr",
     "output_type": "stream",
     "text": [
      "loss: 234.697:  25%|████████████████                                                | 50/200 [35:44<1:46:21, 42.55s/it]"
     ]
    },
    {
     "name": "stdout",
     "output_type": "stream",
     "text": [
      "loss: 234.697, MAE: 4.319, RMSE: 6.570\n"
     ]
    },
    {
     "name": "stderr",
     "output_type": "stream",
     "text": [
      "loss: 232.158:  26%|████████████████▎                                               | 51/200 [36:27<1:45:53, 42.64s/it]"
     ]
    },
    {
     "name": "stdout",
     "output_type": "stream",
     "text": [
      "loss: 232.158, MAE: 4.256, RMSE: 6.502\n"
     ]
    },
    {
     "name": "stderr",
     "output_type": "stream",
     "text": [
      "loss: 235.253:  26%|████████████████▋                                               | 52/200 [37:09<1:44:54, 42.53s/it]"
     ]
    },
    {
     "name": "stdout",
     "output_type": "stream",
     "text": [
      "loss: 235.253, MAE: 4.236, RMSE: 6.427\n"
     ]
    },
    {
     "name": "stderr",
     "output_type": "stream",
     "text": [
      "loss: 229.830:  26%|████████████████▉                                               | 53/200 [37:52<1:44:03, 42.47s/it]"
     ]
    },
    {
     "name": "stdout",
     "output_type": "stream",
     "text": [
      "loss: 229.830, MAE: 4.277, RMSE: 6.496\n"
     ]
    },
    {
     "name": "stderr",
     "output_type": "stream",
     "text": [
      "loss: 228.078:  27%|█████████████████▎                                              | 54/200 [38:34<1:43:11, 42.41s/it]"
     ]
    },
    {
     "name": "stdout",
     "output_type": "stream",
     "text": [
      "loss: 228.078, MAE: 4.216, RMSE: 6.398\n"
     ]
    },
    {
     "name": "stderr",
     "output_type": "stream",
     "text": [
      "loss: 229.704:  28%|█████████████████▌                                              | 55/200 [39:16<1:42:25, 42.38s/it]"
     ]
    },
    {
     "name": "stdout",
     "output_type": "stream",
     "text": [
      "loss: 229.704, MAE: 4.262, RMSE: 6.506\n"
     ]
    },
    {
     "name": "stderr",
     "output_type": "stream",
     "text": [
      "loss: 230.419:  28%|█████████████████▉                                              | 56/200 [39:59<1:41:48, 42.42s/it]"
     ]
    },
    {
     "name": "stdout",
     "output_type": "stream",
     "text": [
      "loss: 230.419, MAE: 4.233, RMSE: 6.403\n"
     ]
    },
    {
     "name": "stderr",
     "output_type": "stream",
     "text": [
      "loss: 229.360:  28%|██████████████████▏                                             | 57/200 [40:41<1:41:08, 42.43s/it]"
     ]
    },
    {
     "name": "stdout",
     "output_type": "stream",
     "text": [
      "loss: 229.360, MAE: 4.232, RMSE: 6.403\n"
     ]
    },
    {
     "name": "stderr",
     "output_type": "stream",
     "text": [
      "loss: 223.771:  29%|██████████████████▌                                             | 58/200 [41:24<1:40:34, 42.50s/it]"
     ]
    },
    {
     "name": "stdout",
     "output_type": "stream",
     "text": [
      "loss: 223.771, MAE: 4.225, RMSE: 6.445\n"
     ]
    },
    {
     "name": "stderr",
     "output_type": "stream",
     "text": [
      "loss: 225.489:  30%|██████████████████▉                                             | 59/200 [42:06<1:39:48, 42.47s/it]"
     ]
    },
    {
     "name": "stdout",
     "output_type": "stream",
     "text": [
      "loss: 225.489, MAE: 4.207, RMSE: 6.413\n"
     ]
    },
    {
     "name": "stderr",
     "output_type": "stream",
     "text": [
      "loss: 222.904:  30%|███████████████████▏                                            | 60/200 [42:49<1:39:05, 42.47s/it]"
     ]
    },
    {
     "name": "stdout",
     "output_type": "stream",
     "text": [
      "loss: 222.904, MAE: 4.210, RMSE: 6.358\n"
     ]
    },
    {
     "name": "stderr",
     "output_type": "stream",
     "text": [
      "loss: 220.059:  30%|███████████████████▌                                            | 61/200 [43:31<1:38:23, 42.47s/it]"
     ]
    },
    {
     "name": "stdout",
     "output_type": "stream",
     "text": [
      "loss: 220.059, MAE: 4.267, RMSE: 6.512\n"
     ]
    },
    {
     "name": "stderr",
     "output_type": "stream",
     "text": [
      "loss: 220.112:  31%|███████████████████▊                                            | 62/200 [44:14<1:37:41, 42.48s/it]"
     ]
    },
    {
     "name": "stdout",
     "output_type": "stream",
     "text": [
      "loss: 220.112, MAE: 4.173, RMSE: 6.324\n"
     ]
    },
    {
     "name": "stderr",
     "output_type": "stream",
     "text": [
      "loss: 220.811:  32%|████████████████████▏                                           | 63/200 [44:56<1:36:58, 42.47s/it]"
     ]
    },
    {
     "name": "stdout",
     "output_type": "stream",
     "text": [
      "loss: 220.811, MAE: 4.238, RMSE: 6.383\n"
     ]
    },
    {
     "name": "stderr",
     "output_type": "stream",
     "text": [
      "loss: 222.248:  32%|████████████████████▍                                           | 64/200 [45:39<1:36:24, 42.53s/it]"
     ]
    },
    {
     "name": "stdout",
     "output_type": "stream",
     "text": [
      "loss: 222.248, MAE: 4.245, RMSE: 6.444\n"
     ]
    },
    {
     "name": "stderr",
     "output_type": "stream",
     "text": [
      "loss: 219.967:  32%|████████████████████▊                                           | 65/200 [46:21<1:35:36, 42.49s/it]"
     ]
    },
    {
     "name": "stdout",
     "output_type": "stream",
     "text": [
      "loss: 219.967, MAE: 4.181, RMSE: 6.359\n"
     ]
    },
    {
     "name": "stderr",
     "output_type": "stream",
     "text": [
      "loss: 226.300:  33%|█████████████████████                                           | 66/200 [47:03<1:34:50, 42.46s/it]"
     ]
    },
    {
     "name": "stdout",
     "output_type": "stream",
     "text": [
      "loss: 226.300, MAE: 4.200, RMSE: 6.381\n"
     ]
    },
    {
     "name": "stderr",
     "output_type": "stream",
     "text": [
      "loss: 220.598:  34%|█████████████████████▍                                          | 67/200 [47:46<1:34:10, 42.49s/it]"
     ]
    },
    {
     "name": "stdout",
     "output_type": "stream",
     "text": [
      "loss: 220.598, MAE: 4.232, RMSE: 6.388\n"
     ]
    },
    {
     "name": "stderr",
     "output_type": "stream",
     "text": [
      "loss: 217.563:  34%|█████████████████████▊                                          | 68/200 [48:28<1:33:17, 42.41s/it]"
     ]
    },
    {
     "name": "stdout",
     "output_type": "stream",
     "text": [
      "loss: 217.563, MAE: 4.208, RMSE: 6.360\n"
     ]
    },
    {
     "name": "stderr",
     "output_type": "stream",
     "text": [
      "loss: 221.241:  34%|██████████████████████                                          | 69/200 [49:11<1:32:32, 42.38s/it]"
     ]
    },
    {
     "name": "stdout",
     "output_type": "stream",
     "text": [
      "loss: 221.241, MAE: 4.172, RMSE: 6.298\n"
     ]
    },
    {
     "name": "stderr",
     "output_type": "stream",
     "text": [
      "loss: 217.660:  35%|██████████████████████▍                                         | 70/200 [49:54<1:32:17, 42.60s/it]"
     ]
    },
    {
     "name": "stdout",
     "output_type": "stream",
     "text": [
      "loss: 217.660, MAE: 4.167, RMSE: 6.271\n"
     ]
    },
    {
     "name": "stderr",
     "output_type": "stream",
     "text": [
      "loss: 220.088:  36%|██████████████████████▋                                         | 71/200 [50:36<1:31:44, 42.67s/it]"
     ]
    },
    {
     "name": "stdout",
     "output_type": "stream",
     "text": [
      "loss: 220.088, MAE: 4.180, RMSE: 6.303\n"
     ]
    },
    {
     "name": "stderr",
     "output_type": "stream",
     "text": [
      "loss: 215.710:  36%|███████████████████████                                         | 72/200 [51:20<1:31:28, 42.88s/it]"
     ]
    },
    {
     "name": "stdout",
     "output_type": "stream",
     "text": [
      "loss: 215.710, MAE: 4.159, RMSE: 6.307\n"
     ]
    },
    {
     "name": "stderr",
     "output_type": "stream",
     "text": [
      "loss: 221.401:  36%|███████████████████████▎                                        | 73/200 [52:02<1:30:33, 42.78s/it]"
     ]
    },
    {
     "name": "stdout",
     "output_type": "stream",
     "text": [
      "loss: 221.401, MAE: 4.165, RMSE: 6.330\n"
     ]
    },
    {
     "name": "stderr",
     "output_type": "stream",
     "text": [
      "loss: 222.236:  37%|███████████████████████▋                                        | 74/200 [52:45<1:30:00, 42.86s/it]"
     ]
    },
    {
     "name": "stdout",
     "output_type": "stream",
     "text": [
      "loss: 222.236, MAE: 4.139, RMSE: 6.247\n"
     ]
    },
    {
     "name": "stderr",
     "output_type": "stream",
     "text": [
      "loss: 212.447:  38%|████████████████████████                                        | 75/200 [53:28<1:29:12, 42.82s/it]"
     ]
    },
    {
     "name": "stdout",
     "output_type": "stream",
     "text": [
      "loss: 212.447, MAE: 4.104, RMSE: 6.193\n"
     ]
    },
    {
     "name": "stderr",
     "output_type": "stream",
     "text": [
      "loss: 213.351:  38%|████████████████████████▎                                       | 76/200 [54:11<1:28:14, 42.70s/it]"
     ]
    },
    {
     "name": "stdout",
     "output_type": "stream",
     "text": [
      "loss: 213.351, MAE: 4.139, RMSE: 6.261\n"
     ]
    },
    {
     "name": "stderr",
     "output_type": "stream",
     "text": [
      "loss: 222.495:  38%|████████████████████████▋                                       | 77/200 [54:53<1:27:23, 42.63s/it]"
     ]
    },
    {
     "name": "stdout",
     "output_type": "stream",
     "text": [
      "loss: 222.495, MAE: 4.134, RMSE: 6.222\n"
     ]
    },
    {
     "name": "stderr",
     "output_type": "stream",
     "text": [
      "loss: 218.046:  39%|████████████████████████▉                                       | 78/200 [55:35<1:26:32, 42.56s/it]"
     ]
    },
    {
     "name": "stdout",
     "output_type": "stream",
     "text": [
      "loss: 218.046, MAE: 4.158, RMSE: 6.271\n"
     ]
    },
    {
     "name": "stderr",
     "output_type": "stream",
     "text": [
      "loss: 219.795:  40%|█████████████████████████▎                                      | 79/200 [56:18<1:25:52, 42.59s/it]"
     ]
    },
    {
     "name": "stdout",
     "output_type": "stream",
     "text": [
      "loss: 219.795, MAE: 4.182, RMSE: 6.317\n"
     ]
    },
    {
     "name": "stderr",
     "output_type": "stream",
     "text": [
      "loss: 211.915:  40%|█████████████████████████▌                                      | 80/200 [57:00<1:24:59, 42.50s/it]"
     ]
    },
    {
     "name": "stdout",
     "output_type": "stream",
     "text": [
      "loss: 211.915, MAE: 4.155, RMSE: 6.233\n"
     ]
    },
    {
     "name": "stderr",
     "output_type": "stream",
     "text": [
      "loss: 209.876:  40%|█████████████████████████▉                                      | 81/200 [57:43<1:24:19, 42.52s/it]"
     ]
    },
    {
     "name": "stdout",
     "output_type": "stream",
     "text": [
      "loss: 209.876, MAE: 4.171, RMSE: 6.345\n"
     ]
    },
    {
     "name": "stderr",
     "output_type": "stream",
     "text": [
      "loss: 208.380:  41%|██████████████████████████▏                                     | 82/200 [58:26<1:24:04, 42.75s/it]"
     ]
    },
    {
     "name": "stdout",
     "output_type": "stream",
     "text": [
      "loss: 208.380, MAE: 4.124, RMSE: 6.238\n"
     ]
    },
    {
     "name": "stderr",
     "output_type": "stream",
     "text": [
      "loss: 208.650:  42%|██████████████████████████▌                                     | 83/200 [59:09<1:23:09, 42.64s/it]"
     ]
    },
    {
     "name": "stdout",
     "output_type": "stream",
     "text": [
      "loss: 208.650, MAE: 4.129, RMSE: 6.248\n"
     ]
    },
    {
     "name": "stderr",
     "output_type": "stream",
     "text": [
      "loss: 211.741:  42%|██████████████████████████▉                                     | 84/200 [59:51<1:22:21, 42.60s/it]"
     ]
    },
    {
     "name": "stdout",
     "output_type": "stream",
     "text": [
      "loss: 211.741, MAE: 4.104, RMSE: 6.162\n"
     ]
    },
    {
     "name": "stderr",
     "output_type": "stream",
     "text": [
      "loss: 209.095:  42%|██████████████████████████▎                                   | 85/200 [1:00:34<1:21:35, 42.57s/it]"
     ]
    },
    {
     "name": "stdout",
     "output_type": "stream",
     "text": [
      "loss: 209.095, MAE: 4.068, RMSE: 6.136\n"
     ]
    },
    {
     "name": "stderr",
     "output_type": "stream",
     "text": [
      "loss: 221.722:  43%|██████████████████████████▋                                   | 86/200 [1:01:16<1:20:55, 42.59s/it]"
     ]
    },
    {
     "name": "stdout",
     "output_type": "stream",
     "text": [
      "loss: 221.722, MAE: 4.080, RMSE: 6.120\n"
     ]
    },
    {
     "name": "stderr",
     "output_type": "stream",
     "text": [
      "loss: 214.234:  44%|██████████████████████████▉                                   | 87/200 [1:01:59<1:20:07, 42.54s/it]"
     ]
    },
    {
     "name": "stdout",
     "output_type": "stream",
     "text": [
      "loss: 214.234, MAE: 4.194, RMSE: 6.317\n"
     ]
    },
    {
     "name": "stderr",
     "output_type": "stream",
     "text": [
      "loss: 207.764:  44%|███████████████████████████▎                                  | 88/200 [1:02:41<1:19:22, 42.52s/it]"
     ]
    },
    {
     "name": "stdout",
     "output_type": "stream",
     "text": [
      "loss: 207.764, MAE: 4.130, RMSE: 6.253\n"
     ]
    },
    {
     "name": "stderr",
     "output_type": "stream",
     "text": [
      "loss: 206.816:  44%|███████████████████████████▌                                  | 89/200 [1:03:24<1:18:37, 42.50s/it]"
     ]
    },
    {
     "name": "stdout",
     "output_type": "stream",
     "text": [
      "loss: 206.816, MAE: 4.097, RMSE: 6.192\n"
     ]
    },
    {
     "name": "stderr",
     "output_type": "stream",
     "text": [
      "loss: 204.888:  45%|███████████████████████████▉                                  | 90/200 [1:04:06<1:17:48, 42.44s/it]"
     ]
    },
    {
     "name": "stdout",
     "output_type": "stream",
     "text": [
      "loss: 204.888, MAE: 4.090, RMSE: 6.167\n"
     ]
    },
    {
     "name": "stderr",
     "output_type": "stream",
     "text": [
      "loss: 205.600:  46%|████████████████████████████▏                                 | 91/200 [1:04:48<1:17:08, 42.47s/it]"
     ]
    },
    {
     "name": "stdout",
     "output_type": "stream",
     "text": [
      "loss: 205.600, MAE: 4.126, RMSE: 6.207\n"
     ]
    },
    {
     "name": "stderr",
     "output_type": "stream",
     "text": [
      "loss: 224.078:  46%|████████████████████████████▌                                 | 92/200 [1:05:31<1:16:25, 42.45s/it]"
     ]
    },
    {
     "name": "stdout",
     "output_type": "stream",
     "text": [
      "loss: 224.078, MAE: 4.105, RMSE: 6.160\n"
     ]
    },
    {
     "name": "stderr",
     "output_type": "stream",
     "text": [
      "loss: 206.273:  46%|████████████████████████████▊                                 | 93/200 [1:06:13<1:15:45, 42.48s/it]"
     ]
    },
    {
     "name": "stdout",
     "output_type": "stream",
     "text": [
      "loss: 206.273, MAE: 4.092, RMSE: 6.183\n"
     ]
    },
    {
     "name": "stderr",
     "output_type": "stream",
     "text": [
      "loss: 202.037:  47%|█████████████████████████████▏                                | 94/200 [1:06:56<1:15:01, 42.47s/it]"
     ]
    },
    {
     "name": "stdout",
     "output_type": "stream",
     "text": [
      "loss: 202.037, MAE: 4.086, RMSE: 6.156\n"
     ]
    },
    {
     "name": "stderr",
     "output_type": "stream",
     "text": [
      "loss: 203.956:  48%|█████████████████████████████▍                                | 95/200 [1:07:38<1:14:19, 42.47s/it]"
     ]
    },
    {
     "name": "stdout",
     "output_type": "stream",
     "text": [
      "loss: 203.956, MAE: 4.076, RMSE: 6.133\n"
     ]
    },
    {
     "name": "stderr",
     "output_type": "stream",
     "text": [
      "loss: 204.959:  48%|█████████████████████████████▊                                | 96/200 [1:08:21<1:13:33, 42.44s/it]"
     ]
    },
    {
     "name": "stdout",
     "output_type": "stream",
     "text": [
      "loss: 204.959, MAE: 4.088, RMSE: 6.143\n"
     ]
    },
    {
     "name": "stderr",
     "output_type": "stream",
     "text": [
      "loss: 203.188:  48%|██████████████████████████████                                | 97/200 [1:09:03<1:12:47, 42.40s/it]"
     ]
    },
    {
     "name": "stdout",
     "output_type": "stream",
     "text": [
      "loss: 203.188, MAE: 4.116, RMSE: 6.190\n"
     ]
    },
    {
     "name": "stderr",
     "output_type": "stream",
     "text": [
      "loss: 207.040:  49%|██████████████████████████████▍                               | 98/200 [1:09:46<1:12:13, 42.48s/it]"
     ]
    },
    {
     "name": "stdout",
     "output_type": "stream",
     "text": [
      "loss: 207.040, MAE: 4.067, RMSE: 6.096\n"
     ]
    },
    {
     "name": "stderr",
     "output_type": "stream",
     "text": [
      "loss: 201.471:  50%|██████████████████████████████▋                               | 99/200 [1:10:28<1:11:33, 42.51s/it]"
     ]
    },
    {
     "name": "stdout",
     "output_type": "stream",
     "text": [
      "loss: 201.471, MAE: 4.126, RMSE: 6.192\n"
     ]
    },
    {
     "name": "stderr",
     "output_type": "stream",
     "text": [
      "loss: 200.800:  50%|██████████████████████████████▌                              | 100/200 [1:11:11<1:10:51, 42.51s/it]"
     ]
    },
    {
     "name": "stdout",
     "output_type": "stream",
     "text": [
      "loss: 200.800, MAE: 4.080, RMSE: 6.171\n"
     ]
    },
    {
     "name": "stderr",
     "output_type": "stream",
     "text": [
      "loss: 206.246:  50%|██████████████████████████████▊                              | 101/200 [1:11:53<1:10:08, 42.51s/it]"
     ]
    },
    {
     "name": "stdout",
     "output_type": "stream",
     "text": [
      "loss: 206.246, MAE: 4.101, RMSE: 6.159\n"
     ]
    },
    {
     "name": "stderr",
     "output_type": "stream",
     "text": [
      "loss: 206.826:  51%|███████████████████████████████                              | 102/200 [1:12:36<1:09:18, 42.44s/it]"
     ]
    },
    {
     "name": "stdout",
     "output_type": "stream",
     "text": [
      "loss: 206.826, MAE: 4.054, RMSE: 6.102\n"
     ]
    },
    {
     "name": "stderr",
     "output_type": "stream",
     "text": [
      "loss: 202.076:  52%|███████████████████████████████▍                             | 103/200 [1:13:18<1:08:38, 42.46s/it]"
     ]
    },
    {
     "name": "stdout",
     "output_type": "stream",
     "text": [
      "loss: 202.076, MAE: 4.078, RMSE: 6.149\n"
     ]
    },
    {
     "name": "stderr",
     "output_type": "stream",
     "text": [
      "loss: 200.906:  52%|███████████████████████████████▋                             | 104/200 [1:14:00<1:07:52, 42.42s/it]"
     ]
    },
    {
     "name": "stdout",
     "output_type": "stream",
     "text": [
      "loss: 200.906, MAE: 4.060, RMSE: 6.127\n"
     ]
    },
    {
     "name": "stderr",
     "output_type": "stream",
     "text": [
      "loss: 199.159:  52%|████████████████████████████████                             | 105/200 [1:14:43<1:07:27, 42.61s/it]"
     ]
    },
    {
     "name": "stdout",
     "output_type": "stream",
     "text": [
      "loss: 199.159, MAE: 4.062, RMSE: 6.171\n"
     ]
    },
    {
     "name": "stderr",
     "output_type": "stream",
     "text": [
      "loss: 199.044:  53%|████████████████████████████████▎                            | 106/200 [1:15:26<1:06:50, 42.67s/it]"
     ]
    },
    {
     "name": "stdout",
     "output_type": "stream",
     "text": [
      "loss: 199.044, MAE: 4.076, RMSE: 6.164\n"
     ]
    },
    {
     "name": "stderr",
     "output_type": "stream",
     "text": [
      "loss: 199.812:  54%|████████████████████████████████▋                            | 107/200 [1:16:10<1:06:40, 43.02s/it]"
     ]
    },
    {
     "name": "stdout",
     "output_type": "stream",
     "text": [
      "loss: 199.812, MAE: 4.106, RMSE: 6.145\n"
     ]
    },
    {
     "name": "stderr",
     "output_type": "stream",
     "text": [
      "loss: 199.813:  54%|████████████████████████████████▉                            | 108/200 [1:16:52<1:05:36, 42.79s/it]"
     ]
    },
    {
     "name": "stdout",
     "output_type": "stream",
     "text": [
      "loss: 199.813, MAE: 4.089, RMSE: 6.173\n"
     ]
    },
    {
     "name": "stderr",
     "output_type": "stream",
     "text": [
      "loss: 205.754:  55%|█████████████████████████████████▏                           | 109/200 [1:17:35<1:04:44, 42.69s/it]"
     ]
    },
    {
     "name": "stdout",
     "output_type": "stream",
     "text": [
      "loss: 205.754, MAE: 4.040, RMSE: 6.091\n"
     ]
    },
    {
     "name": "stderr",
     "output_type": "stream",
     "text": [
      "loss: 200.523:  55%|█████████████████████████████████▌                           | 110/200 [1:18:17<1:03:50, 42.56s/it]"
     ]
    },
    {
     "name": "stdout",
     "output_type": "stream",
     "text": [
      "loss: 200.523, MAE: 4.075, RMSE: 6.114\n"
     ]
    },
    {
     "name": "stderr",
     "output_type": "stream",
     "text": [
      "loss: 200.259:  56%|█████████████████████████████████▊                           | 111/200 [1:18:59<1:03:00, 42.48s/it]"
     ]
    },
    {
     "name": "stdout",
     "output_type": "stream",
     "text": [
      "loss: 200.259, MAE: 4.030, RMSE: 5.994\n"
     ]
    },
    {
     "name": "stderr",
     "output_type": "stream",
     "text": [
      "loss: 198.043:  56%|██████████████████████████████████▏                          | 112/200 [1:19:42<1:02:18, 42.48s/it]"
     ]
    },
    {
     "name": "stdout",
     "output_type": "stream",
     "text": [
      "loss: 198.043, MAE: 4.081, RMSE: 6.108\n"
     ]
    },
    {
     "name": "stderr",
     "output_type": "stream",
     "text": [
      "loss: 201.543:  56%|██████████████████████████████████▍                          | 113/200 [1:20:25<1:01:41, 42.54s/it]"
     ]
    },
    {
     "name": "stdout",
     "output_type": "stream",
     "text": [
      "loss: 201.543, MAE: 4.053, RMSE: 6.107\n"
     ]
    },
    {
     "name": "stderr",
     "output_type": "stream",
     "text": [
      "loss: 202.305:  57%|██████████████████████████████████▊                          | 114/200 [1:21:07<1:00:59, 42.55s/it]"
     ]
    },
    {
     "name": "stdout",
     "output_type": "stream",
     "text": [
      "loss: 202.305, MAE: 4.071, RMSE: 6.149\n"
     ]
    },
    {
     "name": "stderr",
     "output_type": "stream",
     "text": [
      "loss: 198.118:  57%|███████████████████████████████████                          | 115/200 [1:21:49<1:00:10, 42.47s/it]"
     ]
    },
    {
     "name": "stdout",
     "output_type": "stream",
     "text": [
      "loss: 198.118, MAE: 4.033, RMSE: 6.068\n"
     ]
    },
    {
     "name": "stderr",
     "output_type": "stream",
     "text": [
      "loss: 197.579:  58%|████████████████████████████████████▌                          | 116/200 [1:22:32<59:24, 42.43s/it]"
     ]
    },
    {
     "name": "stdout",
     "output_type": "stream",
     "text": [
      "loss: 197.579, MAE: 4.031, RMSE: 6.037\n"
     ]
    },
    {
     "name": "stderr",
     "output_type": "stream",
     "text": [
      "loss: 205.726:  58%|████████████████████████████████████▊                          | 117/200 [1:23:14<58:36, 42.37s/it]"
     ]
    },
    {
     "name": "stdout",
     "output_type": "stream",
     "text": [
      "loss: 205.726, MAE: 4.082, RMSE: 6.075\n"
     ]
    },
    {
     "name": "stderr",
     "output_type": "stream",
     "text": [
      "loss: 194.970:  59%|█████████████████████████████████████▏                         | 118/200 [1:23:56<57:50, 42.32s/it]"
     ]
    },
    {
     "name": "stdout",
     "output_type": "stream",
     "text": [
      "loss: 194.970, MAE: 4.070, RMSE: 6.122\n"
     ]
    },
    {
     "name": "stderr",
     "output_type": "stream",
     "text": [
      "loss: 195.283:  60%|█████████████████████████████████████▍                         | 119/200 [1:24:38<57:07, 42.31s/it]"
     ]
    },
    {
     "name": "stdout",
     "output_type": "stream",
     "text": [
      "loss: 195.283, MAE: 4.067, RMSE: 6.097\n"
     ]
    },
    {
     "name": "stderr",
     "output_type": "stream",
     "text": [
      "loss: 198.398:  60%|█████████████████████████████████████▊                         | 120/200 [1:25:21<56:23, 42.29s/it]"
     ]
    },
    {
     "name": "stdout",
     "output_type": "stream",
     "text": [
      "loss: 198.398, MAE: 4.046, RMSE: 6.045\n"
     ]
    },
    {
     "name": "stderr",
     "output_type": "stream",
     "text": [
      "loss: 204.717:  60%|██████████████████████████████████████                         | 121/200 [1:26:03<55:44, 42.34s/it]"
     ]
    },
    {
     "name": "stdout",
     "output_type": "stream",
     "text": [
      "loss: 204.717, MAE: 4.033, RMSE: 6.019\n"
     ]
    },
    {
     "name": "stderr",
     "output_type": "stream",
     "text": [
      "loss: 197.238:  61%|██████████████████████████████████████▍                        | 122/200 [1:26:45<55:00, 42.32s/it]"
     ]
    },
    {
     "name": "stdout",
     "output_type": "stream",
     "text": [
      "loss: 197.238, MAE: 4.064, RMSE: 6.079\n"
     ]
    },
    {
     "name": "stderr",
     "output_type": "stream",
     "text": [
      "loss: 197.658:  62%|██████████████████████████████████████▋                        | 123/200 [1:27:28<54:30, 42.48s/it]"
     ]
    },
    {
     "name": "stdout",
     "output_type": "stream",
     "text": [
      "loss: 197.658, MAE: 4.048, RMSE: 6.094\n"
     ]
    },
    {
     "name": "stderr",
     "output_type": "stream",
     "text": [
      "loss: 199.597:  62%|███████████████████████████████████████                        | 124/200 [1:28:10<53:41, 42.39s/it]"
     ]
    },
    {
     "name": "stdout",
     "output_type": "stream",
     "text": [
      "loss: 199.597, MAE: 4.037, RMSE: 6.057\n"
     ]
    },
    {
     "name": "stderr",
     "output_type": "stream",
     "text": [
      "loss: 199.518:  62%|███████████████████████████████████████▍                       | 125/200 [1:28:53<52:56, 42.36s/it]"
     ]
    },
    {
     "name": "stdout",
     "output_type": "stream",
     "text": [
      "loss: 199.518, MAE: 4.046, RMSE: 6.033\n"
     ]
    },
    {
     "name": "stderr",
     "output_type": "stream",
     "text": [
      "loss: 197.735:  63%|███████████████████████████████████████▋                       | 126/200 [1:29:35<52:16, 42.39s/it]"
     ]
    },
    {
     "name": "stdout",
     "output_type": "stream",
     "text": [
      "loss: 197.735, MAE: 4.056, RMSE: 6.054\n"
     ]
    },
    {
     "name": "stderr",
     "output_type": "stream",
     "text": [
      "loss: 196.952:  64%|████████████████████████████████████████                       | 127/200 [1:30:17<51:30, 42.34s/it]"
     ]
    },
    {
     "name": "stdout",
     "output_type": "stream",
     "text": [
      "loss: 196.952, MAE: 4.062, RMSE: 6.060\n"
     ]
    },
    {
     "name": "stderr",
     "output_type": "stream",
     "text": [
      "loss: 194.278:  64%|████████████████████████████████████████▎                      | 128/200 [1:31:00<50:49, 42.35s/it]"
     ]
    },
    {
     "name": "stdout",
     "output_type": "stream",
     "text": [
      "loss: 194.278, MAE: 4.008, RMSE: 5.993\n"
     ]
    },
    {
     "name": "stderr",
     "output_type": "stream",
     "text": [
      "loss: 194.647:  64%|████████████████████████████████████████▋                      | 129/200 [1:31:42<50:04, 42.32s/it]"
     ]
    },
    {
     "name": "stdout",
     "output_type": "stream",
     "text": [
      "loss: 194.647, MAE: 4.042, RMSE: 6.072\n"
     ]
    },
    {
     "name": "stderr",
     "output_type": "stream",
     "text": [
      "loss: 195.171:  65%|████████████████████████████████████████▉                      | 130/200 [1:32:24<49:21, 42.31s/it]"
     ]
    },
    {
     "name": "stdout",
     "output_type": "stream",
     "text": [
      "loss: 195.171, MAE: 4.033, RMSE: 6.037\n"
     ]
    },
    {
     "name": "stderr",
     "output_type": "stream",
     "text": [
      "loss: 193.152:  66%|█████████████████████████████████████████▎                     | 131/200 [1:33:07<48:37, 42.28s/it]"
     ]
    },
    {
     "name": "stdout",
     "output_type": "stream",
     "text": [
      "loss: 193.152, MAE: 4.034, RMSE: 6.024\n"
     ]
    },
    {
     "name": "stderr",
     "output_type": "stream",
     "text": [
      "loss: 195.621:  66%|█████████████████████████████████████████▌                     | 132/200 [1:33:49<47:56, 42.31s/it]"
     ]
    },
    {
     "name": "stdout",
     "output_type": "stream",
     "text": [
      "loss: 195.621, MAE: 4.051, RMSE: 6.080\n"
     ]
    },
    {
     "name": "stderr",
     "output_type": "stream",
     "text": [
      "loss: 196.870:  66%|█████████████████████████████████████████▉                     | 133/200 [1:34:31<47:13, 42.29s/it]"
     ]
    },
    {
     "name": "stdout",
     "output_type": "stream",
     "text": [
      "loss: 196.870, MAE: 4.028, RMSE: 6.011\n"
     ]
    },
    {
     "name": "stderr",
     "output_type": "stream",
     "text": [
      "loss: 196.106:  67%|██████████████████████████████████████████▏                    | 134/200 [1:35:13<46:30, 42.28s/it]"
     ]
    },
    {
     "name": "stdout",
     "output_type": "stream",
     "text": [
      "loss: 196.106, MAE: 3.987, RMSE: 5.947\n"
     ]
    },
    {
     "name": "stderr",
     "output_type": "stream",
     "text": [
      "loss: 195.502:  68%|██████████████████████████████████████████▌                    | 135/200 [1:35:56<45:46, 42.25s/it]"
     ]
    },
    {
     "name": "stdout",
     "output_type": "stream",
     "text": [
      "loss: 195.502, MAE: 4.075, RMSE: 6.062\n"
     ]
    },
    {
     "name": "stderr",
     "output_type": "stream",
     "text": [
      "loss: 192.516:  68%|██████████████████████████████████████████▊                    | 136/200 [1:36:38<45:03, 42.25s/it]"
     ]
    },
    {
     "name": "stdout",
     "output_type": "stream",
     "text": [
      "loss: 192.516, MAE: 4.048, RMSE: 6.060\n"
     ]
    },
    {
     "name": "stderr",
     "output_type": "stream",
     "text": [
      "loss: 202.569:  68%|███████████████████████████████████████████▏                   | 137/200 [1:37:20<44:19, 42.22s/it]"
     ]
    },
    {
     "name": "stdout",
     "output_type": "stream",
     "text": [
      "loss: 202.569, MAE: 4.013, RMSE: 6.031\n"
     ]
    },
    {
     "name": "stderr",
     "output_type": "stream",
     "text": [
      "loss: 195.540:  69%|███████████████████████████████████████████▍                   | 138/200 [1:38:02<43:38, 42.24s/it]"
     ]
    },
    {
     "name": "stdout",
     "output_type": "stream",
     "text": [
      "loss: 195.540, MAE: 4.042, RMSE: 6.030\n"
     ]
    },
    {
     "name": "stderr",
     "output_type": "stream",
     "text": [
      "loss: 191.643:  70%|███████████████████████████████████████████▊                   | 139/200 [1:38:45<42:57, 42.26s/it]"
     ]
    },
    {
     "name": "stdout",
     "output_type": "stream",
     "text": [
      "loss: 191.643, MAE: 4.037, RMSE: 6.035\n"
     ]
    },
    {
     "name": "stderr",
     "output_type": "stream",
     "text": [
      "loss: 191.278:  70%|████████████████████████████████████████████                   | 140/200 [1:39:27<42:14, 42.24s/it]"
     ]
    },
    {
     "name": "stdout",
     "output_type": "stream",
     "text": [
      "loss: 191.278, MAE: 4.027, RMSE: 5.992\n"
     ]
    },
    {
     "name": "stderr",
     "output_type": "stream",
     "text": [
      "loss: 193.588:  70%|████████████████████████████████████████████▍                  | 141/200 [1:40:09<41:32, 42.25s/it]"
     ]
    },
    {
     "name": "stdout",
     "output_type": "stream",
     "text": [
      "loss: 193.588, MAE: 4.015, RMSE: 5.973\n"
     ]
    },
    {
     "name": "stderr",
     "output_type": "stream",
     "text": [
      "loss: 191.331:  71%|████████████████████████████████████████████▋                  | 142/200 [1:40:51<40:46, 42.19s/it]"
     ]
    },
    {
     "name": "stdout",
     "output_type": "stream",
     "text": [
      "loss: 191.331, MAE: 4.017, RMSE: 5.995\n"
     ]
    },
    {
     "name": "stderr",
     "output_type": "stream",
     "text": [
      "loss: 193.948:  72%|█████████████████████████████████████████████                  | 143/200 [1:41:34<40:09, 42.27s/it]"
     ]
    },
    {
     "name": "stdout",
     "output_type": "stream",
     "text": [
      "loss: 193.948, MAE: 4.020, RMSE: 6.010\n"
     ]
    },
    {
     "name": "stderr",
     "output_type": "stream",
     "text": [
      "loss: 204.467:  72%|█████████████████████████████████████████████▎                 | 144/200 [1:42:16<39:26, 42.25s/it]"
     ]
    },
    {
     "name": "stdout",
     "output_type": "stream",
     "text": [
      "loss: 204.467, MAE: 4.061, RMSE: 6.063\n"
     ]
    },
    {
     "name": "stderr",
     "output_type": "stream",
     "text": [
      "loss: 192.652:  72%|█████████████████████████████████████████████▋                 | 145/200 [1:42:58<38:42, 42.23s/it]"
     ]
    },
    {
     "name": "stdout",
     "output_type": "stream",
     "text": [
      "loss: 192.652, MAE: 4.092, RMSE: 6.094\n"
     ]
    },
    {
     "name": "stderr",
     "output_type": "stream",
     "text": [
      "loss: 190.216:  73%|█████████████████████████████████████████████▉                 | 146/200 [1:43:40<38:01, 42.26s/it]"
     ]
    },
    {
     "name": "stdout",
     "output_type": "stream",
     "text": [
      "loss: 190.216, MAE: 4.065, RMSE: 6.062\n"
     ]
    },
    {
     "name": "stderr",
     "output_type": "stream",
     "text": [
      "loss: 191.492:  74%|██████████████████████████████████████████████▎                | 147/200 [1:44:22<37:17, 42.22s/it]"
     ]
    },
    {
     "name": "stdout",
     "output_type": "stream",
     "text": [
      "loss: 191.492, MAE: 4.032, RMSE: 6.017\n"
     ]
    },
    {
     "name": "stderr",
     "output_type": "stream",
     "text": [
      "loss: 190.516:  74%|██████████████████████████████████████████████▌                | 148/200 [1:45:05<36:35, 42.23s/it]"
     ]
    },
    {
     "name": "stdout",
     "output_type": "stream",
     "text": [
      "loss: 190.516, MAE: 3.992, RMSE: 5.940\n"
     ]
    },
    {
     "name": "stderr",
     "output_type": "stream",
     "text": [
      "loss: 190.330:  74%|██████████████████████████████████████████████▉                | 149/200 [1:45:47<35:53, 42.23s/it]"
     ]
    },
    {
     "name": "stdout",
     "output_type": "stream",
     "text": [
      "loss: 190.330, MAE: 4.033, RMSE: 5.995\n"
     ]
    },
    {
     "name": "stderr",
     "output_type": "stream",
     "text": [
      "loss: 190.590:  75%|███████████████████████████████████████████████▎               | 150/200 [1:46:29<35:11, 42.23s/it]"
     ]
    },
    {
     "name": "stdout",
     "output_type": "stream",
     "text": [
      "loss: 190.590, MAE: 4.051, RMSE: 6.063\n"
     ]
    },
    {
     "name": "stderr",
     "output_type": "stream",
     "text": [
      "loss: 191.951:  76%|███████████████████████████████████████████████▌               | 151/200 [1:47:11<34:30, 42.25s/it]"
     ]
    },
    {
     "name": "stdout",
     "output_type": "stream",
     "text": [
      "loss: 191.951, MAE: 4.017, RMSE: 6.022\n"
     ]
    },
    {
     "name": "stderr",
     "output_type": "stream",
     "text": [
      "loss: 192.217:  76%|███████████████████████████████████████████████▉               | 152/200 [1:47:54<33:50, 42.30s/it]"
     ]
    },
    {
     "name": "stdout",
     "output_type": "stream",
     "text": [
      "loss: 192.217, MAE: 4.027, RMSE: 5.995\n"
     ]
    },
    {
     "name": "stderr",
     "output_type": "stream",
     "text": [
      "loss: 188.802:  76%|████████████████████████████████████████████████▏              | 153/200 [1:48:36<33:07, 42.28s/it]"
     ]
    },
    {
     "name": "stdout",
     "output_type": "stream",
     "text": [
      "loss: 188.802, MAE: 4.045, RMSE: 6.009\n"
     ]
    },
    {
     "name": "stderr",
     "output_type": "stream",
     "text": [
      "loss: 190.976:  77%|████████████████████████████████████████████████▌              | 154/200 [1:49:18<32:24, 42.28s/it]"
     ]
    },
    {
     "name": "stdout",
     "output_type": "stream",
     "text": [
      "loss: 190.976, MAE: 4.036, RMSE: 6.031\n"
     ]
    },
    {
     "name": "stderr",
     "output_type": "stream",
     "text": [
      "loss: 191.100:  78%|████████████████████████████████████████████████▊              | 155/200 [1:50:01<31:46, 42.37s/it]"
     ]
    },
    {
     "name": "stdout",
     "output_type": "stream",
     "text": [
      "loss: 191.100, MAE: 4.007, RMSE: 5.959\n"
     ]
    },
    {
     "name": "stderr",
     "output_type": "stream",
     "text": [
      "loss: 189.037:  78%|█████████████████████████████████████████████████▏             | 156/200 [1:50:43<31:02, 42.33s/it]"
     ]
    },
    {
     "name": "stdout",
     "output_type": "stream",
     "text": [
      "loss: 189.037, MAE: 4.006, RMSE: 5.947\n"
     ]
    },
    {
     "name": "stderr",
     "output_type": "stream",
     "text": [
      "loss: 189.759:  78%|█████████████████████████████████████████████████▍             | 157/200 [1:51:26<30:20, 42.33s/it]"
     ]
    },
    {
     "name": "stdout",
     "output_type": "stream",
     "text": [
      "loss: 189.759, MAE: 4.034, RMSE: 6.025\n"
     ]
    },
    {
     "name": "stderr",
     "output_type": "stream",
     "text": [
      "loss: 188.691:  79%|█████████████████████████████████████████████████▊             | 158/200 [1:52:08<29:37, 42.33s/it]"
     ]
    },
    {
     "name": "stdout",
     "output_type": "stream",
     "text": [
      "loss: 188.691, MAE: 4.009, RMSE: 5.990\n"
     ]
    },
    {
     "name": "stderr",
     "output_type": "stream",
     "text": [
      "loss: 191.909:  80%|██████████████████████████████████████████████████             | 159/200 [1:52:50<28:56, 42.35s/it]"
     ]
    },
    {
     "name": "stdout",
     "output_type": "stream",
     "text": [
      "loss: 191.909, MAE: 3.980, RMSE: 5.917\n"
     ]
    },
    {
     "name": "stderr",
     "output_type": "stream",
     "text": [
      "loss: 189.665:  80%|██████████████████████████████████████████████████▍            | 160/200 [1:53:32<28:13, 42.33s/it]"
     ]
    },
    {
     "name": "stdout",
     "output_type": "stream",
     "text": [
      "loss: 189.665, MAE: 3.982, RMSE: 5.938\n"
     ]
    },
    {
     "name": "stderr",
     "output_type": "stream",
     "text": [
      "loss: 199.813:  80%|██████████████████████████████████████████████████▋            | 161/200 [1:54:15<27:30, 42.31s/it]"
     ]
    },
    {
     "name": "stdout",
     "output_type": "stream",
     "text": [
      "loss: 199.813, MAE: 4.017, RMSE: 5.979\n"
     ]
    },
    {
     "name": "stderr",
     "output_type": "stream",
     "text": [
      "loss: 191.017:  81%|███████████████████████████████████████████████████            | 162/200 [1:54:57<26:46, 42.29s/it]"
     ]
    },
    {
     "name": "stdout",
     "output_type": "stream",
     "text": [
      "loss: 191.017, MAE: 4.035, RMSE: 5.981\n"
     ]
    },
    {
     "name": "stderr",
     "output_type": "stream",
     "text": [
      "loss: 186.782:  82%|███████████████████████████████████████████████████▎           | 163/200 [1:55:39<26:04, 42.28s/it]"
     ]
    },
    {
     "name": "stdout",
     "output_type": "stream",
     "text": [
      "loss: 186.782, MAE: 4.048, RMSE: 6.036\n"
     ]
    },
    {
     "name": "stderr",
     "output_type": "stream",
     "text": [
      "loss: 189.043:  82%|███████████████████████████████████████████████████▋           | 164/200 [1:56:22<25:25, 42.37s/it]"
     ]
    },
    {
     "name": "stdout",
     "output_type": "stream",
     "text": [
      "loss: 189.043, MAE: 3.997, RMSE: 5.966\n"
     ]
    },
    {
     "name": "stderr",
     "output_type": "stream",
     "text": [
      "loss: 189.170:  82%|███████████████████████████████████████████████████▉           | 165/200 [1:57:04<24:41, 42.32s/it]"
     ]
    },
    {
     "name": "stdout",
     "output_type": "stream",
     "text": [
      "loss: 189.170, MAE: 4.000, RMSE: 5.954\n"
     ]
    },
    {
     "name": "stderr",
     "output_type": "stream",
     "text": [
      "loss: 188.641:  83%|████████████████████████████████████████████████████▎          | 166/200 [1:57:47<24:01, 42.41s/it]"
     ]
    },
    {
     "name": "stdout",
     "output_type": "stream",
     "text": [
      "loss: 188.641, MAE: 4.024, RMSE: 5.981\n"
     ]
    },
    {
     "name": "stderr",
     "output_type": "stream",
     "text": [
      "loss: 186.637:  84%|████████████████████████████████████████████████████▌          | 167/200 [1:58:30<23:31, 42.78s/it]"
     ]
    },
    {
     "name": "stdout",
     "output_type": "stream",
     "text": [
      "loss: 186.637, MAE: 3.983, RMSE: 5.929\n"
     ]
    },
    {
     "name": "stderr",
     "output_type": "stream",
     "text": [
      "loss: 195.939:  84%|████████████████████████████████████████████████████▉          | 168/200 [1:59:12<22:43, 42.61s/it]"
     ]
    },
    {
     "name": "stdout",
     "output_type": "stream",
     "text": [
      "loss: 195.939, MAE: 4.006, RMSE: 5.961\n"
     ]
    },
    {
     "name": "stderr",
     "output_type": "stream",
     "text": [
      "loss: 187.476:  84%|█████████████████████████████████████████████████████▏         | 169/200 [1:59:55<21:58, 42.54s/it]"
     ]
    },
    {
     "name": "stdout",
     "output_type": "stream",
     "text": [
      "loss: 187.476, MAE: 4.010, RMSE: 5.948\n"
     ]
    },
    {
     "name": "stderr",
     "output_type": "stream",
     "text": [
      "loss: 186.939:  85%|█████████████████████████████████████████████████████▌         | 170/200 [2:00:37<21:13, 42.46s/it]"
     ]
    },
    {
     "name": "stdout",
     "output_type": "stream",
     "text": [
      "loss: 186.939, MAE: 3.992, RMSE: 5.953\n"
     ]
    },
    {
     "name": "stderr",
     "output_type": "stream",
     "text": [
      "loss: 195.830:  86%|█████████████████████████████████████████████████████▊         | 171/200 [2:01:19<20:29, 42.41s/it]"
     ]
    },
    {
     "name": "stdout",
     "output_type": "stream",
     "text": [
      "loss: 195.830, MAE: 3.995, RMSE: 5.947\n"
     ]
    },
    {
     "name": "stderr",
     "output_type": "stream",
     "text": [
      "loss: 188.941:  86%|██████████████████████████████████████████████████████▏        | 172/200 [2:02:02<19:47, 42.41s/it]"
     ]
    },
    {
     "name": "stdout",
     "output_type": "stream",
     "text": [
      "loss: 188.941, MAE: 3.998, RMSE: 5.928\n"
     ]
    },
    {
     "name": "stderr",
     "output_type": "stream",
     "text": [
      "loss: 186.595:  86%|██████████████████████████████████████████████████████▍        | 173/200 [2:02:44<19:03, 42.37s/it]"
     ]
    },
    {
     "name": "stdout",
     "output_type": "stream",
     "text": [
      "loss: 186.595, MAE: 4.015, RMSE: 5.967\n"
     ]
    },
    {
     "name": "stderr",
     "output_type": "stream",
     "text": [
      "loss: 187.233:  87%|██████████████████████████████████████████████████████▊        | 174/200 [2:03:26<18:21, 42.36s/it]"
     ]
    },
    {
     "name": "stdout",
     "output_type": "stream",
     "text": [
      "loss: 187.233, MAE: 3.980, RMSE: 5.904\n"
     ]
    },
    {
     "name": "stderr",
     "output_type": "stream",
     "text": [
      "loss: 183.702:  88%|███████████████████████████████████████████████████████▏       | 175/200 [2:04:09<17:37, 42.29s/it]"
     ]
    },
    {
     "name": "stdout",
     "output_type": "stream",
     "text": [
      "loss: 183.702, MAE: 4.015, RMSE: 5.970\n"
     ]
    },
    {
     "name": "stderr",
     "output_type": "stream",
     "text": [
      "loss: 185.252:  88%|███████████████████████████████████████████████████████▍       | 176/200 [2:04:51<16:54, 42.29s/it]"
     ]
    },
    {
     "name": "stdout",
     "output_type": "stream",
     "text": [
      "loss: 185.252, MAE: 3.993, RMSE: 5.914\n"
     ]
    },
    {
     "name": "stderr",
     "output_type": "stream",
     "text": [
      "loss: 188.632:  88%|███████████████████████████████████████████████████████▊       | 177/200 [2:05:33<16:12, 42.29s/it]"
     ]
    },
    {
     "name": "stdout",
     "output_type": "stream",
     "text": [
      "loss: 188.632, MAE: 3.998, RMSE: 5.935\n"
     ]
    },
    {
     "name": "stderr",
     "output_type": "stream",
     "text": [
      "loss: 184.427:  89%|████████████████████████████████████████████████████████       | 178/200 [2:06:16<15:32, 42.39s/it]"
     ]
    },
    {
     "name": "stdout",
     "output_type": "stream",
     "text": [
      "loss: 184.427, MAE: 4.004, RMSE: 5.936\n"
     ]
    },
    {
     "name": "stderr",
     "output_type": "stream",
     "text": [
      "loss: 185.430:  90%|████████████████████████████████████████████████████████▍      | 179/200 [2:06:58<14:48, 42.31s/it]"
     ]
    },
    {
     "name": "stdout",
     "output_type": "stream",
     "text": [
      "loss: 185.430, MAE: 4.019, RMSE: 5.975\n"
     ]
    },
    {
     "name": "stderr",
     "output_type": "stream",
     "text": [
      "loss: 201.836:  90%|████████████████████████████████████████████████████████▋      | 180/200 [2:07:40<14:05, 42.29s/it]"
     ]
    },
    {
     "name": "stdout",
     "output_type": "stream",
     "text": [
      "loss: 201.836, MAE: 3.988, RMSE: 5.892\n"
     ]
    },
    {
     "name": "stderr",
     "output_type": "stream",
     "text": [
      "loss: 190.019:  90%|█████████████████████████████████████████████████████████      | 181/200 [2:08:22<13:22, 42.25s/it]"
     ]
    },
    {
     "name": "stdout",
     "output_type": "stream",
     "text": [
      "loss: 190.019, MAE: 3.977, RMSE: 5.878\n"
     ]
    },
    {
     "name": "stderr",
     "output_type": "stream",
     "text": [
      "loss: 185.567:  91%|█████████████████████████████████████████████████████████▎     | 182/200 [2:09:05<12:40, 42.27s/it]"
     ]
    },
    {
     "name": "stdout",
     "output_type": "stream",
     "text": [
      "loss: 185.567, MAE: 3.989, RMSE: 5.964\n"
     ]
    },
    {
     "name": "stderr",
     "output_type": "stream",
     "text": [
      "loss: 187.699:  92%|█████████████████████████████████████████████████████████▋     | 183/200 [2:09:47<11:58, 42.26s/it]"
     ]
    },
    {
     "name": "stdout",
     "output_type": "stream",
     "text": [
      "loss: 187.699, MAE: 3.998, RMSE: 5.946\n"
     ]
    },
    {
     "name": "stderr",
     "output_type": "stream",
     "text": [
      "loss: 184.924:  92%|█████████████████████████████████████████████████████████▉     | 184/200 [2:10:29<11:16, 42.26s/it]"
     ]
    },
    {
     "name": "stdout",
     "output_type": "stream",
     "text": [
      "loss: 184.924, MAE: 4.036, RMSE: 5.989\n"
     ]
    },
    {
     "name": "stderr",
     "output_type": "stream",
     "text": [
      "loss: 183.816:  92%|██████████████████████████████████████████████████████████▎    | 185/200 [2:11:11<10:33, 42.24s/it]"
     ]
    },
    {
     "name": "stdout",
     "output_type": "stream",
     "text": [
      "loss: 183.816, MAE: 3.981, RMSE: 5.940\n"
     ]
    },
    {
     "name": "stderr",
     "output_type": "stream",
     "text": [
      "loss: 184.651:  93%|██████████████████████████████████████████████████████████▌    | 186/200 [2:11:54<09:51, 42.25s/it]"
     ]
    },
    {
     "name": "stdout",
     "output_type": "stream",
     "text": [
      "loss: 184.651, MAE: 3.962, RMSE: 5.901\n"
     ]
    },
    {
     "name": "stderr",
     "output_type": "stream",
     "text": [
      "loss: 185.308:  94%|██████████████████████████████████████████████████████████▉    | 187/200 [2:12:36<09:08, 42.21s/it]"
     ]
    },
    {
     "name": "stdout",
     "output_type": "stream",
     "text": [
      "loss: 185.308, MAE: 3.986, RMSE: 5.898\n"
     ]
    },
    {
     "name": "stderr",
     "output_type": "stream",
     "text": [
      "loss: 184.779:  94%|███████████████████████████████████████████████████████████▏   | 188/200 [2:13:18<08:26, 42.20s/it]"
     ]
    },
    {
     "name": "stdout",
     "output_type": "stream",
     "text": [
      "loss: 184.779, MAE: 3.982, RMSE: 5.911\n"
     ]
    },
    {
     "name": "stderr",
     "output_type": "stream",
     "text": [
      "loss: 188.039:  94%|███████████████████████████████████████████████████████████▌   | 189/200 [2:14:00<07:44, 42.21s/it]"
     ]
    },
    {
     "name": "stdout",
     "output_type": "stream",
     "text": [
      "loss: 188.039, MAE: 3.987, RMSE: 5.898\n"
     ]
    },
    {
     "name": "stderr",
     "output_type": "stream",
     "text": [
      "loss: 184.726:  95%|███████████████████████████████████████████████████████████▊   | 190/200 [2:14:42<07:02, 42.25s/it]"
     ]
    },
    {
     "name": "stdout",
     "output_type": "stream",
     "text": [
      "loss: 184.726, MAE: 3.988, RMSE: 5.921\n"
     ]
    },
    {
     "name": "stderr",
     "output_type": "stream",
     "text": [
      "loss: 184.245:  96%|████████████████████████████████████████████████████████████▏  | 191/200 [2:15:25<06:19, 42.19s/it]"
     ]
    },
    {
     "name": "stdout",
     "output_type": "stream",
     "text": [
      "loss: 184.245, MAE: 3.977, RMSE: 5.940\n"
     ]
    },
    {
     "name": "stderr",
     "output_type": "stream",
     "text": [
      "loss: 186.735:  96%|████████████████████████████████████████████████████████████▍  | 192/200 [2:16:07<05:38, 42.32s/it]"
     ]
    },
    {
     "name": "stdout",
     "output_type": "stream",
     "text": [
      "loss: 186.735, MAE: 4.025, RMSE: 5.983\n"
     ]
    },
    {
     "name": "stderr",
     "output_type": "stream",
     "text": [
      "loss: 183.878:  96%|████████████████████████████████████████████████████████████▊  | 193/200 [2:16:49<04:55, 42.27s/it]"
     ]
    },
    {
     "name": "stdout",
     "output_type": "stream",
     "text": [
      "loss: 183.878, MAE: 4.011, RMSE: 5.981\n"
     ]
    },
    {
     "name": "stderr",
     "output_type": "stream",
     "text": [
      "loss: 183.618:  97%|█████████████████████████████████████████████████████████████  | 194/200 [2:17:32<04:13, 42.25s/it]"
     ]
    },
    {
     "name": "stdout",
     "output_type": "stream",
     "text": [
      "loss: 183.618, MAE: 4.026, RMSE: 6.007\n"
     ]
    },
    {
     "name": "stderr",
     "output_type": "stream",
     "text": [
      "loss: 190.115:  98%|█████████████████████████████████████████████████████████████▍ | 195/200 [2:18:14<03:31, 42.26s/it]"
     ]
    },
    {
     "name": "stdout",
     "output_type": "stream",
     "text": [
      "loss: 190.115, MAE: 3.991, RMSE: 5.920\n"
     ]
    },
    {
     "name": "stderr",
     "output_type": "stream",
     "text": [
      "loss: 184.890:  98%|█████████████████████████████████████████████████████████████▋ | 196/200 [2:18:56<02:48, 42.25s/it]"
     ]
    },
    {
     "name": "stdout",
     "output_type": "stream",
     "text": [
      "loss: 184.890, MAE: 3.999, RMSE: 5.929\n"
     ]
    },
    {
     "name": "stderr",
     "output_type": "stream",
     "text": [
      "loss: 189.964:  98%|██████████████████████████████████████████████████████████████ | 197/200 [2:19:38<02:06, 42.25s/it]"
     ]
    },
    {
     "name": "stdout",
     "output_type": "stream",
     "text": [
      "loss: 189.964, MAE: 3.971, RMSE: 5.918\n"
     ]
    },
    {
     "name": "stderr",
     "output_type": "stream",
     "text": [
      "loss: 185.252:  99%|██████████████████████████████████████████████████████████████▎| 198/200 [2:20:20<01:24, 42.24s/it]"
     ]
    },
    {
     "name": "stdout",
     "output_type": "stream",
     "text": [
      "loss: 185.252, MAE: 3.998, RMSE: 5.920\n"
     ]
    },
    {
     "name": "stderr",
     "output_type": "stream",
     "text": [
      "loss: 183.233: 100%|██████████████████████████████████████████████████████████████▋| 199/200 [2:21:03<00:42, 42.23s/it]"
     ]
    },
    {
     "name": "stdout",
     "output_type": "stream",
     "text": [
      "loss: 183.233, MAE: 3.990, RMSE: 5.915\n"
     ]
    },
    {
     "name": "stderr",
     "output_type": "stream",
     "text": [
      "loss: 192.758: 100%|███████████████████████████████████████████████████████████████| 200/200 [2:21:45<00:00, 42.53s/it]"
     ]
    },
    {
     "name": "stdout",
     "output_type": "stream",
     "text": [
      "loss: 192.758, MAE: 3.967, RMSE: 5.893\n"
     ]
    },
    {
     "name": "stderr",
     "output_type": "stream",
     "text": [
      "\n",
      "  0%|                                                                                          | 0/200 [00:00<?, ?it/s]"
     ]
    },
    {
     "name": "stdout",
     "output_type": "stream",
     "text": [
      "\n",
      "Test MAE: 3.491, Test RMSE: 5.248, R-squared: 0.924, Cor: 0.962\n",
      "\n",
      "brits\n"
     ]
    },
    {
     "name": "stderr",
     "output_type": "stream",
     "text": [
      "loss: 1964.397:   0%|▎                                                               | 1/200 [00:46<2:35:20, 46.84s/it]"
     ]
    },
    {
     "name": "stdout",
     "output_type": "stream",
     "text": [
      "loss: 1964.397, MAE: 10.159, RMSE: 14.957\n"
     ]
    },
    {
     "name": "stderr",
     "output_type": "stream",
     "text": [
      "loss: 1466.159:   1%|▋                                                               | 2/200 [01:33<2:35:03, 46.99s/it]"
     ]
    },
    {
     "name": "stdout",
     "output_type": "stream",
     "text": [
      "loss: 1466.159, MAE: 7.901, RMSE: 11.569\n"
     ]
    },
    {
     "name": "stderr",
     "output_type": "stream",
     "text": [
      "loss: 1372.452:   2%|▉                                                               | 3/200 [02:17<2:29:49, 45.63s/it]"
     ]
    },
    {
     "name": "stdout",
     "output_type": "stream",
     "text": [
      "loss: 1372.452, MAE: 7.703, RMSE: 11.229\n"
     ]
    },
    {
     "name": "stderr",
     "output_type": "stream",
     "text": [
      "loss: 1319.953:   2%|█▎                                                              | 4/200 [03:01<2:26:52, 44.96s/it]"
     ]
    },
    {
     "name": "stdout",
     "output_type": "stream",
     "text": [
      "loss: 1319.953, MAE: 7.777, RMSE: 11.363\n"
     ]
    },
    {
     "name": "stderr",
     "output_type": "stream",
     "text": [
      "loss: 1304.646:   2%|█▌                                                              | 5/200 [03:45<2:24:54, 44.58s/it]"
     ]
    },
    {
     "name": "stdout",
     "output_type": "stream",
     "text": [
      "loss: 1304.646, MAE: 7.653, RMSE: 11.204\n"
     ]
    },
    {
     "name": "stderr",
     "output_type": "stream",
     "text": [
      "loss: 1223.668:   3%|█▉                                                              | 6/200 [04:29<2:23:22, 44.34s/it]"
     ]
    },
    {
     "name": "stdout",
     "output_type": "stream",
     "text": [
      "loss: 1223.668, MAE: 7.720, RMSE: 11.309\n"
     ]
    },
    {
     "name": "stderr",
     "output_type": "stream",
     "text": [
      "loss: 1189.062:   4%|██▏                                                             | 7/200 [05:13<2:22:04, 44.17s/it]"
     ]
    },
    {
     "name": "stdout",
     "output_type": "stream",
     "text": [
      "loss: 1189.062, MAE: 7.630, RMSE: 11.176\n"
     ]
    },
    {
     "name": "stderr",
     "output_type": "stream",
     "text": [
      "loss: 1165.958:   4%|██▌                                                             | 8/200 [05:57<2:21:22, 44.18s/it]"
     ]
    },
    {
     "name": "stdout",
     "output_type": "stream",
     "text": [
      "loss: 1165.958, MAE: 7.624, RMSE: 11.189\n"
     ]
    },
    {
     "name": "stderr",
     "output_type": "stream",
     "text": [
      "loss: 1155.618:   4%|██▉                                                             | 9/200 [06:41<2:20:30, 44.14s/it]"
     ]
    },
    {
     "name": "stdout",
     "output_type": "stream",
     "text": [
      "loss: 1155.618, MAE: 7.606, RMSE: 11.149\n"
     ]
    },
    {
     "name": "stderr",
     "output_type": "stream",
     "text": [
      "loss: 1151.843:   5%|███▏                                                           | 10/200 [07:25<2:19:28, 44.05s/it]"
     ]
    },
    {
     "name": "stdout",
     "output_type": "stream",
     "text": [
      "loss: 1151.843, MAE: 7.561, RMSE: 11.097\n"
     ]
    },
    {
     "name": "stderr",
     "output_type": "stream",
     "text": [
      "loss: 1107.351:   6%|███▍                                                           | 11/200 [08:09<2:18:39, 44.02s/it]"
     ]
    },
    {
     "name": "stdout",
     "output_type": "stream",
     "text": [
      "loss: 1107.351, MAE: 7.608, RMSE: 11.194\n"
     ]
    },
    {
     "name": "stderr",
     "output_type": "stream",
     "text": [
      "loss: 1066.935:   6%|███▊                                                           | 12/200 [08:53<2:17:38, 43.93s/it]"
     ]
    },
    {
     "name": "stdout",
     "output_type": "stream",
     "text": [
      "loss: 1066.935, MAE: 7.508, RMSE: 11.014\n"
     ]
    },
    {
     "name": "stderr",
     "output_type": "stream",
     "text": [
      "loss: 1024.686:   6%|████                                                           | 13/200 [09:37<2:17:04, 43.98s/it]"
     ]
    },
    {
     "name": "stdout",
     "output_type": "stream",
     "text": [
      "loss: 1024.686, MAE: 7.503, RMSE: 11.024\n"
     ]
    },
    {
     "name": "stderr",
     "output_type": "stream",
     "text": [
      "loss: 1018.204:   7%|████▍                                                          | 14/200 [10:21<2:16:17, 43.97s/it]"
     ]
    },
    {
     "name": "stdout",
     "output_type": "stream",
     "text": [
      "loss: 1018.204, MAE: 7.483, RMSE: 11.009\n"
     ]
    },
    {
     "name": "stderr",
     "output_type": "stream",
     "text": [
      "loss: 1012.376:   8%|████▋                                                          | 15/200 [11:05<2:15:25, 43.92s/it]"
     ]
    },
    {
     "name": "stdout",
     "output_type": "stream",
     "text": [
      "loss: 1012.376, MAE: 7.457, RMSE: 10.963\n"
     ]
    },
    {
     "name": "stderr",
     "output_type": "stream",
     "text": [
      "loss: 972.630:   8%|█████                                                           | 16/200 [11:49<2:14:49, 43.96s/it]"
     ]
    },
    {
     "name": "stdout",
     "output_type": "stream",
     "text": [
      "loss: 972.630, MAE: 7.451, RMSE: 10.956\n"
     ]
    },
    {
     "name": "stderr",
     "output_type": "stream",
     "text": [
      "loss: 976.633:   8%|█████▍                                                          | 17/200 [12:32<2:13:56, 43.91s/it]"
     ]
    },
    {
     "name": "stdout",
     "output_type": "stream",
     "text": [
      "loss: 976.633, MAE: 7.411, RMSE: 10.892\n"
     ]
    },
    {
     "name": "stderr",
     "output_type": "stream",
     "text": [
      "loss: 996.110:   9%|█████▊                                                          | 18/200 [13:16<2:13:08, 43.89s/it]"
     ]
    },
    {
     "name": "stdout",
     "output_type": "stream",
     "text": [
      "loss: 996.110, MAE: 7.438, RMSE: 10.950\n"
     ]
    },
    {
     "name": "stderr",
     "output_type": "stream",
     "text": [
      "loss: 935.884:  10%|██████                                                          | 19/200 [14:00<2:12:13, 43.83s/it]"
     ]
    },
    {
     "name": "stdout",
     "output_type": "stream",
     "text": [
      "loss: 935.884, MAE: 7.384, RMSE: 10.868\n"
     ]
    },
    {
     "name": "stderr",
     "output_type": "stream",
     "text": [
      "loss: 921.165:  10%|██████▍                                                         | 20/200 [14:44<2:11:40, 43.89s/it]"
     ]
    },
    {
     "name": "stdout",
     "output_type": "stream",
     "text": [
      "loss: 921.165, MAE: 7.407, RMSE: 10.904\n"
     ]
    },
    {
     "name": "stderr",
     "output_type": "stream",
     "text": [
      "loss: 932.188:  10%|██████▋                                                         | 21/200 [15:28<2:10:48, 43.85s/it]"
     ]
    },
    {
     "name": "stdout",
     "output_type": "stream",
     "text": [
      "loss: 932.188, MAE: 7.396, RMSE: 10.872\n"
     ]
    },
    {
     "name": "stderr",
     "output_type": "stream",
     "text": [
      "loss: 905.993:  11%|███████                                                         | 22/200 [16:12<2:09:59, 43.82s/it]"
     ]
    },
    {
     "name": "stdout",
     "output_type": "stream",
     "text": [
      "loss: 905.993, MAE: 7.357, RMSE: 10.814\n"
     ]
    },
    {
     "name": "stderr",
     "output_type": "stream",
     "text": [
      "loss: 886.233:  12%|███████▎                                                        | 23/200 [16:55<2:09:15, 43.81s/it]"
     ]
    },
    {
     "name": "stdout",
     "output_type": "stream",
     "text": [
      "loss: 886.233, MAE: 7.344, RMSE: 10.800\n"
     ]
    },
    {
     "name": "stderr",
     "output_type": "stream",
     "text": [
      "loss: 880.626:  12%|███████▋                                                        | 24/200 [17:39<2:08:29, 43.80s/it]"
     ]
    },
    {
     "name": "stdout",
     "output_type": "stream",
     "text": [
      "loss: 880.626, MAE: 7.355, RMSE: 10.828\n"
     ]
    },
    {
     "name": "stderr",
     "output_type": "stream",
     "text": [
      "loss: 858.786:  12%|████████                                                        | 25/200 [18:23<2:07:46, 43.81s/it]"
     ]
    },
    {
     "name": "stdout",
     "output_type": "stream",
     "text": [
      "loss: 858.786, MAE: 7.362, RMSE: 10.845\n"
     ]
    },
    {
     "name": "stderr",
     "output_type": "stream",
     "text": [
      "loss: 856.735:  13%|████████▎                                                       | 26/200 [19:07<2:07:10, 43.85s/it]"
     ]
    },
    {
     "name": "stdout",
     "output_type": "stream",
     "text": [
      "loss: 856.735, MAE: 7.307, RMSE: 10.750\n"
     ]
    },
    {
     "name": "stderr",
     "output_type": "stream",
     "text": [
      "loss: 852.276:  14%|████████▋                                                       | 27/200 [19:51<2:06:28, 43.86s/it]"
     ]
    },
    {
     "name": "stdout",
     "output_type": "stream",
     "text": [
      "loss: 852.276, MAE: 7.325, RMSE: 10.776\n"
     ]
    },
    {
     "name": "stderr",
     "output_type": "stream",
     "text": [
      "loss: 840.890:  14%|████████▉                                                       | 28/200 [20:35<2:05:41, 43.84s/it]"
     ]
    },
    {
     "name": "stdout",
     "output_type": "stream",
     "text": [
      "loss: 840.890, MAE: 7.346, RMSE: 10.827\n"
     ]
    },
    {
     "name": "stderr",
     "output_type": "stream",
     "text": [
      "loss: 841.617:  14%|█████████▎                                                      | 29/200 [21:18<2:04:53, 43.82s/it]"
     ]
    },
    {
     "name": "stdout",
     "output_type": "stream",
     "text": [
      "loss: 841.617, MAE: 7.319, RMSE: 10.766\n"
     ]
    },
    {
     "name": "stderr",
     "output_type": "stream",
     "text": [
      "loss: 853.382:  15%|█████████▌                                                      | 30/200 [22:02<2:04:14, 43.85s/it]"
     ]
    },
    {
     "name": "stdout",
     "output_type": "stream",
     "text": [
      "loss: 853.382, MAE: 7.294, RMSE: 10.746\n"
     ]
    },
    {
     "name": "stderr",
     "output_type": "stream",
     "text": [
      "loss: 835.744:  16%|█████████▉                                                      | 31/200 [22:46<2:03:31, 43.85s/it]"
     ]
    },
    {
     "name": "stdout",
     "output_type": "stream",
     "text": [
      "loss: 835.744, MAE: 7.258, RMSE: 10.692\n"
     ]
    },
    {
     "name": "stderr",
     "output_type": "stream",
     "text": [
      "loss: 841.963:  16%|██████████▏                                                     | 32/200 [23:30<2:02:41, 43.82s/it]"
     ]
    },
    {
     "name": "stdout",
     "output_type": "stream",
     "text": [
      "loss: 841.963, MAE: 7.273, RMSE: 10.722\n"
     ]
    },
    {
     "name": "stderr",
     "output_type": "stream",
     "text": [
      "loss: 856.041:  16%|██████████▌                                                     | 33/200 [24:14<2:01:59, 43.83s/it]"
     ]
    },
    {
     "name": "stdout",
     "output_type": "stream",
     "text": [
      "loss: 856.041, MAE: 7.284, RMSE: 10.746\n"
     ]
    },
    {
     "name": "stderr",
     "output_type": "stream",
     "text": [
      "loss: 833.817:  17%|██████████▉                                                     | 34/200 [24:58<2:01:18, 43.84s/it]"
     ]
    },
    {
     "name": "stdout",
     "output_type": "stream",
     "text": [
      "loss: 833.817, MAE: 7.250, RMSE: 10.673\n"
     ]
    },
    {
     "name": "stderr",
     "output_type": "stream",
     "text": [
      "loss: 816.536:  18%|███████████▏                                                    | 35/200 [25:42<2:00:37, 43.87s/it]"
     ]
    },
    {
     "name": "stdout",
     "output_type": "stream",
     "text": [
      "loss: 816.536, MAE: 7.248, RMSE: 10.670\n"
     ]
    },
    {
     "name": "stderr",
     "output_type": "stream",
     "text": [
      "loss: 817.697:  18%|███████████▌                                                    | 36/200 [26:25<1:59:56, 43.88s/it]"
     ]
    },
    {
     "name": "stdout",
     "output_type": "stream",
     "text": [
      "loss: 817.697, MAE: 7.277, RMSE: 10.725\n"
     ]
    },
    {
     "name": "stderr",
     "output_type": "stream",
     "text": [
      "loss: 804.518:  18%|███████████▊                                                    | 37/200 [27:09<1:59:08, 43.86s/it]"
     ]
    },
    {
     "name": "stdout",
     "output_type": "stream",
     "text": [
      "loss: 804.518, MAE: 7.270, RMSE: 10.731\n"
     ]
    },
    {
     "name": "stderr",
     "output_type": "stream",
     "text": [
      "loss: 790.167:  19%|████████████▏                                                   | 38/200 [27:53<1:58:35, 43.92s/it]"
     ]
    },
    {
     "name": "stdout",
     "output_type": "stream",
     "text": [
      "loss: 790.167, MAE: 7.247, RMSE: 10.699\n"
     ]
    },
    {
     "name": "stderr",
     "output_type": "stream",
     "text": [
      "loss: 805.567:  20%|████████████▍                                                   | 39/200 [28:38<1:58:05, 44.01s/it]"
     ]
    },
    {
     "name": "stdout",
     "output_type": "stream",
     "text": [
      "loss: 805.567, MAE: 7.246, RMSE: 10.675\n"
     ]
    },
    {
     "name": "stderr",
     "output_type": "stream",
     "text": [
      "loss: 788.648:  20%|████████████▊                                                   | 40/200 [29:22<1:57:48, 44.18s/it]"
     ]
    },
    {
     "name": "stdout",
     "output_type": "stream",
     "text": [
      "loss: 788.648, MAE: 7.244, RMSE: 10.685\n"
     ]
    },
    {
     "name": "stderr",
     "output_type": "stream",
     "text": [
      "loss: 785.320:  20%|█████████████                                                   | 41/200 [30:06<1:56:52, 44.11s/it]"
     ]
    },
    {
     "name": "stdout",
     "output_type": "stream",
     "text": [
      "loss: 785.320, MAE: 7.235, RMSE: 10.672\n"
     ]
    },
    {
     "name": "stderr",
     "output_type": "stream",
     "text": [
      "loss: 781.933:  21%|█████████████▍                                                  | 42/200 [30:50<1:55:58, 44.04s/it]"
     ]
    },
    {
     "name": "stdout",
     "output_type": "stream",
     "text": [
      "loss: 781.933, MAE: 7.205, RMSE: 10.631\n"
     ]
    },
    {
     "name": "stderr",
     "output_type": "stream",
     "text": [
      "loss: 778.218:  22%|█████████████▊                                                  | 43/200 [31:34<1:55:03, 43.97s/it]"
     ]
    },
    {
     "name": "stdout",
     "output_type": "stream",
     "text": [
      "loss: 778.218, MAE: 7.222, RMSE: 10.665\n"
     ]
    },
    {
     "name": "stderr",
     "output_type": "stream",
     "text": [
      "loss: 778.530:  22%|██████████████                                                  | 44/200 [32:18<1:54:12, 43.93s/it]"
     ]
    },
    {
     "name": "stdout",
     "output_type": "stream",
     "text": [
      "loss: 778.530, MAE: 7.197, RMSE: 10.630\n"
     ]
    },
    {
     "name": "stderr",
     "output_type": "stream",
     "text": [
      "loss: 772.040:  22%|██████████████▍                                                 | 45/200 [33:01<1:53:24, 43.90s/it]"
     ]
    },
    {
     "name": "stdout",
     "output_type": "stream",
     "text": [
      "loss: 772.040, MAE: 7.237, RMSE: 10.685\n"
     ]
    },
    {
     "name": "stderr",
     "output_type": "stream",
     "text": [
      "loss: 759.946:  23%|██████████████▋                                                 | 46/200 [33:45<1:52:37, 43.88s/it]"
     ]
    },
    {
     "name": "stdout",
     "output_type": "stream",
     "text": [
      "loss: 759.946, MAE: 7.185, RMSE: 10.601\n"
     ]
    },
    {
     "name": "stderr",
     "output_type": "stream",
     "text": [
      "loss: 771.884:  24%|███████████████                                                 | 47/200 [34:29<1:51:48, 43.85s/it]"
     ]
    },
    {
     "name": "stdout",
     "output_type": "stream",
     "text": [
      "loss: 771.884, MAE: 7.214, RMSE: 10.650\n"
     ]
    },
    {
     "name": "stderr",
     "output_type": "stream",
     "text": [
      "loss: 762.698:  24%|███████████████▎                                                | 48/200 [35:13<1:50:58, 43.81s/it]"
     ]
    },
    {
     "name": "stdout",
     "output_type": "stream",
     "text": [
      "loss: 762.698, MAE: 7.210, RMSE: 10.647\n"
     ]
    },
    {
     "name": "stderr",
     "output_type": "stream",
     "text": [
      "loss: 782.589:  24%|███████████████▋                                                | 49/200 [35:57<1:50:25, 43.88s/it]"
     ]
    },
    {
     "name": "stdout",
     "output_type": "stream",
     "text": [
      "loss: 782.589, MAE: 7.226, RMSE: 10.677\n"
     ]
    },
    {
     "name": "stderr",
     "output_type": "stream",
     "text": [
      "loss: 760.936:  25%|████████████████                                                | 50/200 [36:41<1:50:17, 44.12s/it]"
     ]
    },
    {
     "name": "stdout",
     "output_type": "stream",
     "text": [
      "loss: 760.936, MAE: 7.222, RMSE: 10.667\n"
     ]
    },
    {
     "name": "stderr",
     "output_type": "stream",
     "text": [
      "loss: 754.768:  26%|████████████████▎                                               | 51/200 [37:25<1:49:22, 44.05s/it]"
     ]
    },
    {
     "name": "stdout",
     "output_type": "stream",
     "text": [
      "loss: 754.768, MAE: 7.229, RMSE: 10.684\n"
     ]
    },
    {
     "name": "stderr",
     "output_type": "stream",
     "text": [
      "loss: 757.154:  26%|████████████████▋                                               | 52/200 [38:09<1:48:29, 43.98s/it]"
     ]
    },
    {
     "name": "stdout",
     "output_type": "stream",
     "text": [
      "loss: 757.154, MAE: 7.210, RMSE: 10.654\n"
     ]
    },
    {
     "name": "stderr",
     "output_type": "stream",
     "text": [
      "loss: 767.035:  26%|████████████████▉                                               | 53/200 [38:53<1:47:46, 43.99s/it]"
     ]
    },
    {
     "name": "stdout",
     "output_type": "stream",
     "text": [
      "loss: 767.035, MAE: 7.221, RMSE: 10.667\n"
     ]
    },
    {
     "name": "stderr",
     "output_type": "stream",
     "text": [
      "loss: 766.094:  27%|█████████████████▎                                              | 54/200 [39:37<1:46:53, 43.93s/it]"
     ]
    },
    {
     "name": "stdout",
     "output_type": "stream",
     "text": [
      "loss: 766.094, MAE: 7.208, RMSE: 10.634\n"
     ]
    },
    {
     "name": "stderr",
     "output_type": "stream",
     "text": [
      "loss: 762.573:  28%|█████████████████▌                                              | 55/200 [40:21<1:46:04, 43.90s/it]"
     ]
    },
    {
     "name": "stdout",
     "output_type": "stream",
     "text": [
      "loss: 762.573, MAE: 7.207, RMSE: 10.644\n"
     ]
    },
    {
     "name": "stderr",
     "output_type": "stream",
     "text": [
      "loss: 768.504:  28%|█████████████████▉                                              | 56/200 [41:05<1:45:26, 43.93s/it]"
     ]
    },
    {
     "name": "stdout",
     "output_type": "stream",
     "text": [
      "loss: 768.504, MAE: 7.181, RMSE: 10.599\n"
     ]
    },
    {
     "name": "stderr",
     "output_type": "stream",
     "text": [
      "loss: 754.125:  28%|██████████████████▏                                             | 57/200 [41:49<1:44:38, 43.90s/it]"
     ]
    },
    {
     "name": "stdout",
     "output_type": "stream",
     "text": [
      "loss: 754.125, MAE: 7.188, RMSE: 10.617\n"
     ]
    },
    {
     "name": "stderr",
     "output_type": "stream",
     "text": [
      "loss: 742.774:  29%|██████████████████▌                                             | 58/200 [42:33<1:43:54, 43.90s/it]"
     ]
    },
    {
     "name": "stdout",
     "output_type": "stream",
     "text": [
      "loss: 742.774, MAE: 7.185, RMSE: 10.604\n"
     ]
    },
    {
     "name": "stderr",
     "output_type": "stream",
     "text": [
      "loss: 740.444:  30%|██████████████████▉                                             | 59/200 [43:16<1:43:05, 43.87s/it]"
     ]
    },
    {
     "name": "stdout",
     "output_type": "stream",
     "text": [
      "loss: 740.444, MAE: 7.180, RMSE: 10.599\n"
     ]
    },
    {
     "name": "stderr",
     "output_type": "stream",
     "text": [
      "loss: 754.610:  30%|███████████████████▏                                            | 60/200 [44:00<1:42:24, 43.89s/it]"
     ]
    },
    {
     "name": "stdout",
     "output_type": "stream",
     "text": [
      "loss: 754.610, MAE: 7.189, RMSE: 10.636\n"
     ]
    },
    {
     "name": "stderr",
     "output_type": "stream",
     "text": [
      "loss: 745.535:  30%|███████████████████▌                                            | 61/200 [44:44<1:41:40, 43.89s/it]"
     ]
    },
    {
     "name": "stdout",
     "output_type": "stream",
     "text": [
      "loss: 745.535, MAE: 7.210, RMSE: 10.664\n"
     ]
    },
    {
     "name": "stderr",
     "output_type": "stream",
     "text": [
      "loss: 766.244:  31%|███████████████████▊                                            | 62/200 [45:28<1:40:51, 43.85s/it]"
     ]
    },
    {
     "name": "stdout",
     "output_type": "stream",
     "text": [
      "loss: 766.244, MAE: 7.151, RMSE: 10.553\n"
     ]
    },
    {
     "name": "stderr",
     "output_type": "stream",
     "text": [
      "loss: 745.942:  32%|████████████████████▏                                           | 63/200 [46:12<1:40:21, 43.95s/it]"
     ]
    },
    {
     "name": "stdout",
     "output_type": "stream",
     "text": [
      "loss: 745.942, MAE: 7.178, RMSE: 10.603\n"
     ]
    },
    {
     "name": "stderr",
     "output_type": "stream",
     "text": [
      "loss: 727.919:  32%|████████████████████▍                                           | 64/200 [46:56<1:39:28, 43.88s/it]"
     ]
    },
    {
     "name": "stdout",
     "output_type": "stream",
     "text": [
      "loss: 727.919, MAE: 7.191, RMSE: 10.646\n"
     ]
    },
    {
     "name": "stderr",
     "output_type": "stream",
     "text": [
      "loss: 727.411:  32%|████████████████████▊                                           | 65/200 [47:40<1:38:42, 43.87s/it]"
     ]
    },
    {
     "name": "stdout",
     "output_type": "stream",
     "text": [
      "loss: 727.411, MAE: 7.183, RMSE: 10.616\n"
     ]
    },
    {
     "name": "stderr",
     "output_type": "stream",
     "text": [
      "loss: 729.794:  33%|█████████████████████                                           | 66/200 [48:23<1:37:55, 43.85s/it]"
     ]
    },
    {
     "name": "stdout",
     "output_type": "stream",
     "text": [
      "loss: 729.794, MAE: 7.162, RMSE: 10.558\n"
     ]
    },
    {
     "name": "stderr",
     "output_type": "stream",
     "text": [
      "loss: 739.168:  34%|█████████████████████▍                                          | 67/200 [49:07<1:37:14, 43.87s/it]"
     ]
    },
    {
     "name": "stdout",
     "output_type": "stream",
     "text": [
      "loss: 739.168, MAE: 7.201, RMSE: 10.641\n"
     ]
    },
    {
     "name": "stderr",
     "output_type": "stream",
     "text": [
      "loss: 723.910:  34%|█████████████████████▊                                          | 68/200 [49:51<1:36:29, 43.86s/it]"
     ]
    },
    {
     "name": "stdout",
     "output_type": "stream",
     "text": [
      "loss: 723.910, MAE: 7.167, RMSE: 10.587\n"
     ]
    },
    {
     "name": "stderr",
     "output_type": "stream",
     "text": [
      "loss: 732.750:  34%|██████████████████████                                          | 69/200 [50:35<1:35:35, 43.78s/it]"
     ]
    },
    {
     "name": "stdout",
     "output_type": "stream",
     "text": [
      "loss: 732.750, MAE: 7.154, RMSE: 10.558\n"
     ]
    },
    {
     "name": "stderr",
     "output_type": "stream",
     "text": [
      "loss: 748.250:  35%|██████████████████████▍                                         | 70/200 [51:19<1:34:51, 43.78s/it]"
     ]
    },
    {
     "name": "stdout",
     "output_type": "stream",
     "text": [
      "loss: 748.250, MAE: 7.174, RMSE: 10.589\n"
     ]
    },
    {
     "name": "stderr",
     "output_type": "stream",
     "text": [
      "loss: 741.906:  36%|██████████████████████▋                                         | 71/200 [52:02<1:34:12, 43.82s/it]"
     ]
    },
    {
     "name": "stdout",
     "output_type": "stream",
     "text": [
      "loss: 741.906, MAE: 7.180, RMSE: 10.614\n"
     ]
    },
    {
     "name": "stderr",
     "output_type": "stream",
     "text": [
      "loss: 756.080:  36%|███████████████████████                                         | 72/200 [52:46<1:33:32, 43.85s/it]"
     ]
    },
    {
     "name": "stdout",
     "output_type": "stream",
     "text": [
      "loss: 756.080, MAE: 7.162, RMSE: 10.574\n"
     ]
    },
    {
     "name": "stderr",
     "output_type": "stream",
     "text": [
      "loss: 725.988:  36%|███████████████████████▎                                        | 73/200 [53:30<1:32:50, 43.86s/it]"
     ]
    },
    {
     "name": "stdout",
     "output_type": "stream",
     "text": [
      "loss: 725.988, MAE: 7.149, RMSE: 10.548\n"
     ]
    },
    {
     "name": "stderr",
     "output_type": "stream",
     "text": [
      "loss: 722.825:  37%|███████████████████████▋                                        | 74/200 [54:14<1:32:13, 43.91s/it]"
     ]
    },
    {
     "name": "stdout",
     "output_type": "stream",
     "text": [
      "loss: 722.825, MAE: 7.167, RMSE: 10.592\n"
     ]
    },
    {
     "name": "stderr",
     "output_type": "stream",
     "text": [
      "loss: 723.473:  38%|████████████████████████                                        | 75/200 [54:58<1:31:26, 43.89s/it]"
     ]
    },
    {
     "name": "stdout",
     "output_type": "stream",
     "text": [
      "loss: 723.473, MAE: 7.136, RMSE: 10.534\n"
     ]
    },
    {
     "name": "stderr",
     "output_type": "stream",
     "text": [
      "loss: 721.518:  38%|████████████████████████▎                                       | 76/200 [55:42<1:30:37, 43.85s/it]"
     ]
    },
    {
     "name": "stdout",
     "output_type": "stream",
     "text": [
      "loss: 721.518, MAE: 7.158, RMSE: 10.578\n"
     ]
    },
    {
     "name": "stderr",
     "output_type": "stream",
     "text": [
      "loss: 717.596:  38%|████████████████████████▋                                       | 77/200 [56:26<1:29:45, 43.78s/it]"
     ]
    },
    {
     "name": "stdout",
     "output_type": "stream",
     "text": [
      "loss: 717.596, MAE: 7.152, RMSE: 10.565\n"
     ]
    },
    {
     "name": "stderr",
     "output_type": "stream",
     "text": [
      "loss: 732.870:  39%|████████████████████████▉                                       | 78/200 [57:09<1:29:01, 43.78s/it]"
     ]
    },
    {
     "name": "stdout",
     "output_type": "stream",
     "text": [
      "loss: 732.870, MAE: 7.164, RMSE: 10.584\n"
     ]
    },
    {
     "name": "stderr",
     "output_type": "stream",
     "text": [
      "loss: 734.357:  40%|█████████████████████████▎                                      | 79/200 [57:53<1:28:21, 43.82s/it]"
     ]
    },
    {
     "name": "stdout",
     "output_type": "stream",
     "text": [
      "loss: 734.357, MAE: 7.145, RMSE: 10.540\n"
     ]
    },
    {
     "name": "stderr",
     "output_type": "stream",
     "text": [
      "loss: 711.753:  40%|█████████████████████████▌                                      | 80/200 [58:37<1:27:37, 43.82s/it]"
     ]
    },
    {
     "name": "stdout",
     "output_type": "stream",
     "text": [
      "loss: 711.753, MAE: 7.126, RMSE: 10.521\n"
     ]
    },
    {
     "name": "stderr",
     "output_type": "stream",
     "text": [
      "loss: 724.353:  40%|█████████████████████████▉                                      | 81/200 [59:21<1:26:54, 43.82s/it]"
     ]
    },
    {
     "name": "stdout",
     "output_type": "stream",
     "text": [
      "loss: 724.353, MAE: 7.137, RMSE: 10.540\n"
     ]
    },
    {
     "name": "stderr",
     "output_type": "stream",
     "text": [
      "loss: 721.501:  41%|█████████████████████████▍                                    | 82/200 [1:00:05<1:26:16, 43.87s/it]"
     ]
    },
    {
     "name": "stdout",
     "output_type": "stream",
     "text": [
      "loss: 721.501, MAE: 7.134, RMSE: 10.544\n"
     ]
    },
    {
     "name": "stderr",
     "output_type": "stream",
     "text": [
      "loss: 706.639:  42%|█████████████████████████▋                                    | 83/200 [1:00:49<1:25:31, 43.86s/it]"
     ]
    },
    {
     "name": "stdout",
     "output_type": "stream",
     "text": [
      "loss: 706.639, MAE: 7.146, RMSE: 10.592\n"
     ]
    },
    {
     "name": "stderr",
     "output_type": "stream",
     "text": [
      "loss: 719.235:  42%|██████████████████████████                                    | 84/200 [1:01:32<1:24:39, 43.79s/it]"
     ]
    },
    {
     "name": "stdout",
     "output_type": "stream",
     "text": [
      "loss: 719.235, MAE: 7.123, RMSE: 10.544\n"
     ]
    },
    {
     "name": "stderr",
     "output_type": "stream",
     "text": [
      "loss: 717.257:  42%|██████████████████████████▎                                   | 85/200 [1:02:16<1:23:54, 43.78s/it]"
     ]
    },
    {
     "name": "stdout",
     "output_type": "stream",
     "text": [
      "loss: 717.257, MAE: 7.124, RMSE: 10.516\n"
     ]
    },
    {
     "name": "stderr",
     "output_type": "stream",
     "text": [
      "loss: 710.815:  43%|██████████████████████████▋                                   | 86/200 [1:03:00<1:23:11, 43.78s/it]"
     ]
    },
    {
     "name": "stdout",
     "output_type": "stream",
     "text": [
      "loss: 710.815, MAE: 7.125, RMSE: 10.514\n"
     ]
    },
    {
     "name": "stderr",
     "output_type": "stream",
     "text": [
      "loss: 710.527:  44%|██████████████████████████▉                                   | 87/200 [1:03:44<1:22:29, 43.80s/it]"
     ]
    },
    {
     "name": "stdout",
     "output_type": "stream",
     "text": [
      "loss: 710.527, MAE: 7.133, RMSE: 10.522\n"
     ]
    },
    {
     "name": "stderr",
     "output_type": "stream",
     "text": [
      "loss: 714.269:  44%|███████████████████████████▎                                  | 88/200 [1:04:28<1:21:50, 43.85s/it]"
     ]
    },
    {
     "name": "stdout",
     "output_type": "stream",
     "text": [
      "loss: 714.269, MAE: 7.134, RMSE: 10.548\n"
     ]
    },
    {
     "name": "stderr",
     "output_type": "stream",
     "text": [
      "loss: 710.666:  44%|███████████████████████████▌                                  | 89/200 [1:05:11<1:21:04, 43.83s/it]"
     ]
    },
    {
     "name": "stdout",
     "output_type": "stream",
     "text": [
      "loss: 710.666, MAE: 7.130, RMSE: 10.533\n"
     ]
    },
    {
     "name": "stderr",
     "output_type": "stream",
     "text": [
      "loss: 732.812:  45%|███████████████████████████▉                                  | 90/200 [1:05:56<1:20:31, 43.92s/it]"
     ]
    },
    {
     "name": "stdout",
     "output_type": "stream",
     "text": [
      "loss: 732.812, MAE: 7.124, RMSE: 10.525\n"
     ]
    },
    {
     "name": "stderr",
     "output_type": "stream",
     "text": [
      "loss: 705.891:  46%|████████████████████████████▏                                 | 91/200 [1:06:40<1:20:02, 44.06s/it]"
     ]
    },
    {
     "name": "stdout",
     "output_type": "stream",
     "text": [
      "loss: 705.891, MAE: 7.143, RMSE: 10.554\n"
     ]
    },
    {
     "name": "stderr",
     "output_type": "stream",
     "text": [
      "loss: 748.821:  46%|████████████████████████████▌                                 | 92/200 [1:07:24<1:19:13, 44.01s/it]"
     ]
    },
    {
     "name": "stdout",
     "output_type": "stream",
     "text": [
      "loss: 748.821, MAE: 7.127, RMSE: 10.517\n"
     ]
    },
    {
     "name": "stderr",
     "output_type": "stream",
     "text": [
      "loss: 727.811:  46%|████████████████████████████▊                                 | 93/200 [1:08:08<1:18:26, 43.98s/it]"
     ]
    },
    {
     "name": "stdout",
     "output_type": "stream",
     "text": [
      "loss: 727.811, MAE: 7.127, RMSE: 10.525\n"
     ]
    },
    {
     "name": "stderr",
     "output_type": "stream",
     "text": [
      "loss: 718.433:  47%|█████████████████████████████▏                                | 94/200 [1:08:52<1:17:37, 43.94s/it]"
     ]
    },
    {
     "name": "stdout",
     "output_type": "stream",
     "text": [
      "loss: 718.433, MAE: 7.120, RMSE: 10.495\n"
     ]
    },
    {
     "name": "stderr",
     "output_type": "stream",
     "text": [
      "loss: 710.450:  48%|█████████████████████████████▍                                | 95/200 [1:09:36<1:16:53, 43.94s/it]"
     ]
    },
    {
     "name": "stdout",
     "output_type": "stream",
     "text": [
      "loss: 710.450, MAE: 7.104, RMSE: 10.493\n"
     ]
    },
    {
     "name": "stderr",
     "output_type": "stream",
     "text": [
      "loss: 724.210:  48%|█████████████████████████████▊                                | 96/200 [1:10:20<1:16:13, 43.97s/it]"
     ]
    },
    {
     "name": "stdout",
     "output_type": "stream",
     "text": [
      "loss: 724.210, MAE: 7.112, RMSE: 10.516\n"
     ]
    },
    {
     "name": "stderr",
     "output_type": "stream",
     "text": [
      "loss: 698.040:  48%|██████████████████████████████                                | 97/200 [1:11:03<1:15:23, 43.91s/it]"
     ]
    },
    {
     "name": "stdout",
     "output_type": "stream",
     "text": [
      "loss: 698.040, MAE: 7.120, RMSE: 10.508\n"
     ]
    },
    {
     "name": "stderr",
     "output_type": "stream",
     "text": [
      "loss: 722.283:  49%|██████████████████████████████▍                               | 98/200 [1:11:47<1:14:37, 43.89s/it]"
     ]
    },
    {
     "name": "stdout",
     "output_type": "stream",
     "text": [
      "loss: 722.283, MAE: 7.133, RMSE: 10.528\n"
     ]
    },
    {
     "name": "stderr",
     "output_type": "stream",
     "text": [
      "loss: 697.833:  50%|██████████████████████████████▋                               | 99/200 [1:12:31<1:13:49, 43.85s/it]"
     ]
    },
    {
     "name": "stdout",
     "output_type": "stream",
     "text": [
      "loss: 697.833, MAE: 7.123, RMSE: 10.505\n"
     ]
    },
    {
     "name": "stderr",
     "output_type": "stream",
     "text": [
      "loss: 699.066:  50%|██████████████████████████████▌                              | 100/200 [1:13:15<1:13:05, 43.85s/it]"
     ]
    },
    {
     "name": "stdout",
     "output_type": "stream",
     "text": [
      "loss: 699.066, MAE: 7.113, RMSE: 10.496\n"
     ]
    },
    {
     "name": "stderr",
     "output_type": "stream",
     "text": [
      "loss: 699.646:  50%|██████████████████████████████▊                              | 101/200 [1:13:59<1:12:21, 43.85s/it]"
     ]
    },
    {
     "name": "stdout",
     "output_type": "stream",
     "text": [
      "loss: 699.646, MAE: 7.103, RMSE: 10.495\n"
     ]
    },
    {
     "name": "stderr",
     "output_type": "stream",
     "text": [
      "loss: 697.360:  51%|███████████████████████████████                              | 102/200 [1:14:43<1:11:42, 43.90s/it]"
     ]
    },
    {
     "name": "stdout",
     "output_type": "stream",
     "text": [
      "loss: 697.360, MAE: 7.126, RMSE: 10.516\n"
     ]
    },
    {
     "name": "stderr",
     "output_type": "stream",
     "text": [
      "loss: 698.734:  52%|███████████████████████████████▍                             | 103/200 [1:15:27<1:10:56, 43.88s/it]"
     ]
    },
    {
     "name": "stdout",
     "output_type": "stream",
     "text": [
      "loss: 698.734, MAE: 7.116, RMSE: 10.511\n"
     ]
    },
    {
     "name": "stderr",
     "output_type": "stream",
     "text": [
      "loss: 693.684:  52%|███████████████████████████████▋                             | 104/200 [1:16:10<1:10:14, 43.90s/it]"
     ]
    },
    {
     "name": "stdout",
     "output_type": "stream",
     "text": [
      "loss: 693.684, MAE: 7.115, RMSE: 10.518\n"
     ]
    },
    {
     "name": "stderr",
     "output_type": "stream",
     "text": [
      "loss: 697.528:  52%|████████████████████████████████                             | 105/200 [1:16:54<1:09:27, 43.87s/it]"
     ]
    },
    {
     "name": "stdout",
     "output_type": "stream",
     "text": [
      "loss: 697.528, MAE: 7.078, RMSE: 10.468\n"
     ]
    },
    {
     "name": "stderr",
     "output_type": "stream",
     "text": [
      "loss: 703.607:  53%|████████████████████████████████▎                            | 106/200 [1:17:38<1:08:42, 43.86s/it]"
     ]
    },
    {
     "name": "stdout",
     "output_type": "stream",
     "text": [
      "loss: 703.607, MAE: 7.138, RMSE: 10.533\n"
     ]
    },
    {
     "name": "stderr",
     "output_type": "stream",
     "text": [
      "loss: 695.605:  54%|████████████████████████████████▋                            | 107/200 [1:18:22<1:08:03, 43.90s/it]"
     ]
    },
    {
     "name": "stdout",
     "output_type": "stream",
     "text": [
      "loss: 695.605, MAE: 7.103, RMSE: 10.500\n"
     ]
    },
    {
     "name": "stderr",
     "output_type": "stream",
     "text": [
      "loss: 700.625:  54%|████████████████████████████████▉                            | 108/200 [1:19:06<1:07:16, 43.88s/it]"
     ]
    },
    {
     "name": "stdout",
     "output_type": "stream",
     "text": [
      "loss: 700.625, MAE: 7.122, RMSE: 10.517\n"
     ]
    },
    {
     "name": "stderr",
     "output_type": "stream",
     "text": [
      "loss: 701.365:  55%|█████████████████████████████████▏                           | 109/200 [1:19:50<1:06:32, 43.87s/it]"
     ]
    },
    {
     "name": "stdout",
     "output_type": "stream",
     "text": [
      "loss: 701.365, MAE: 7.134, RMSE: 10.531\n"
     ]
    },
    {
     "name": "stderr",
     "output_type": "stream",
     "text": [
      "loss: 720.071:  55%|█████████████████████████████████▌                           | 110/200 [1:20:34<1:05:45, 43.83s/it]"
     ]
    },
    {
     "name": "stdout",
     "output_type": "stream",
     "text": [
      "loss: 720.071, MAE: 7.108, RMSE: 10.493\n"
     ]
    },
    {
     "name": "stderr",
     "output_type": "stream",
     "text": [
      "loss: 689.764:  56%|█████████████████████████████████▊                           | 111/200 [1:21:17<1:04:58, 43.80s/it]"
     ]
    },
    {
     "name": "stdout",
     "output_type": "stream",
     "text": [
      "loss: 689.764, MAE: 7.108, RMSE: 10.488\n"
     ]
    },
    {
     "name": "stderr",
     "output_type": "stream",
     "text": [
      "loss: 694.131:  56%|██████████████████████████████████▏                          | 112/200 [1:22:01<1:04:13, 43.79s/it]"
     ]
    },
    {
     "name": "stdout",
     "output_type": "stream",
     "text": [
      "loss: 694.131, MAE: 7.122, RMSE: 10.515\n"
     ]
    },
    {
     "name": "stderr",
     "output_type": "stream",
     "text": [
      "loss: 685.018:  56%|██████████████████████████████████▍                          | 113/200 [1:22:45<1:03:33, 43.84s/it]"
     ]
    },
    {
     "name": "stdout",
     "output_type": "stream",
     "text": [
      "loss: 685.018, MAE: 7.124, RMSE: 10.518\n"
     ]
    },
    {
     "name": "stderr",
     "output_type": "stream",
     "text": [
      "loss: 705.480:  57%|██████████████████████████████████▊                          | 114/200 [1:23:29<1:02:51, 43.86s/it]"
     ]
    },
    {
     "name": "stdout",
     "output_type": "stream",
     "text": [
      "loss: 705.480, MAE: 7.144, RMSE: 10.538\n"
     ]
    },
    {
     "name": "stderr",
     "output_type": "stream",
     "text": [
      "loss: 688.840:  57%|███████████████████████████████████                          | 115/200 [1:24:13<1:02:12, 43.91s/it]"
     ]
    },
    {
     "name": "stdout",
     "output_type": "stream",
     "text": [
      "loss: 688.840, MAE: 7.105, RMSE: 10.490\n"
     ]
    },
    {
     "name": "stderr",
     "output_type": "stream",
     "text": [
      "loss: 694.432:  58%|███████████████████████████████████▍                         | 116/200 [1:24:57<1:01:28, 43.91s/it]"
     ]
    },
    {
     "name": "stdout",
     "output_type": "stream",
     "text": [
      "loss: 694.432, MAE: 7.081, RMSE: 10.456\n"
     ]
    },
    {
     "name": "stderr",
     "output_type": "stream",
     "text": [
      "loss: 687.017:  58%|███████████████████████████████████▋                         | 117/200 [1:25:41<1:00:43, 43.90s/it]"
     ]
    },
    {
     "name": "stdout",
     "output_type": "stream",
     "text": [
      "loss: 687.017, MAE: 7.113, RMSE: 10.496\n"
     ]
    },
    {
     "name": "stderr",
     "output_type": "stream",
     "text": [
      "loss: 695.881:  59%|███████████████████████████████████▉                         | 118/200 [1:26:25<1:00:04, 43.96s/it]"
     ]
    },
    {
     "name": "stdout",
     "output_type": "stream",
     "text": [
      "loss: 695.881, MAE: 7.122, RMSE: 10.510\n"
     ]
    },
    {
     "name": "stderr",
     "output_type": "stream",
     "text": [
      "loss: 694.060:  60%|█████████████████████████████████████▍                         | 119/200 [1:27:09<59:19, 43.94s/it]"
     ]
    },
    {
     "name": "stdout",
     "output_type": "stream",
     "text": [
      "loss: 694.060, MAE: 7.095, RMSE: 10.480\n"
     ]
    },
    {
     "name": "stderr",
     "output_type": "stream",
     "text": [
      "loss: 690.168:  60%|█████████████████████████████████████▊                         | 120/200 [1:27:53<58:36, 43.96s/it]"
     ]
    },
    {
     "name": "stdout",
     "output_type": "stream",
     "text": [
      "loss: 690.168, MAE: 7.075, RMSE: 10.446\n"
     ]
    },
    {
     "name": "stderr",
     "output_type": "stream",
     "text": [
      "loss: 686.953:  60%|██████████████████████████████████████                         | 121/200 [1:28:36<57:47, 43.90s/it]"
     ]
    },
    {
     "name": "stdout",
     "output_type": "stream",
     "text": [
      "loss: 686.953, MAE: 7.116, RMSE: 10.494\n"
     ]
    },
    {
     "name": "stderr",
     "output_type": "stream",
     "text": [
      "loss: 687.098:  61%|██████████████████████████████████████▍                        | 122/200 [1:29:20<57:03, 43.89s/it]"
     ]
    },
    {
     "name": "stdout",
     "output_type": "stream",
     "text": [
      "loss: 687.098, MAE: 7.093, RMSE: 10.472\n"
     ]
    },
    {
     "name": "stderr",
     "output_type": "stream",
     "text": [
      "loss: 683.364:  62%|██████████████████████████████████████▋                        | 123/200 [1:30:04<56:14, 43.83s/it]"
     ]
    },
    {
     "name": "stdout",
     "output_type": "stream",
     "text": [
      "loss: 683.364, MAE: 7.105, RMSE: 10.495\n"
     ]
    },
    {
     "name": "stderr",
     "output_type": "stream",
     "text": [
      "loss: 708.662:  62%|███████████████████████████████████████                        | 124/200 [1:30:48<55:30, 43.82s/it]"
     ]
    },
    {
     "name": "stdout",
     "output_type": "stream",
     "text": [
      "loss: 708.662, MAE: 7.101, RMSE: 10.487\n"
     ]
    },
    {
     "name": "stderr",
     "output_type": "stream",
     "text": [
      "loss: 688.031:  62%|███████████████████████████████████████▍                       | 125/200 [1:31:32<54:47, 43.84s/it]"
     ]
    },
    {
     "name": "stdout",
     "output_type": "stream",
     "text": [
      "loss: 688.031, MAE: 7.106, RMSE: 10.502\n"
     ]
    },
    {
     "name": "stderr",
     "output_type": "stream",
     "text": [
      "loss: 700.308:  63%|███████████████████████████████████████▋                       | 126/200 [1:32:16<54:05, 43.86s/it]"
     ]
    },
    {
     "name": "stdout",
     "output_type": "stream",
     "text": [
      "loss: 700.308, MAE: 7.110, RMSE: 10.502\n"
     ]
    },
    {
     "name": "stderr",
     "output_type": "stream",
     "text": [
      "loss: 691.051:  64%|████████████████████████████████████████                       | 127/200 [1:33:00<53:24, 43.90s/it]"
     ]
    },
    {
     "name": "stdout",
     "output_type": "stream",
     "text": [
      "loss: 691.051, MAE: 7.111, RMSE: 10.486\n"
     ]
    },
    {
     "name": "stderr",
     "output_type": "stream",
     "text": [
      "loss: 691.716:  64%|████████████████████████████████████████▎                      | 128/200 [1:33:43<52:38, 43.87s/it]"
     ]
    },
    {
     "name": "stdout",
     "output_type": "stream",
     "text": [
      "loss: 691.716, MAE: 7.122, RMSE: 10.515\n"
     ]
    },
    {
     "name": "stderr",
     "output_type": "stream",
     "text": [
      "loss: 696.757:  64%|████████████████████████████████████████▋                      | 129/200 [1:34:27<51:55, 43.88s/it]"
     ]
    },
    {
     "name": "stdout",
     "output_type": "stream",
     "text": [
      "loss: 696.757, MAE: 7.079, RMSE: 10.460\n"
     ]
    },
    {
     "name": "stderr",
     "output_type": "stream",
     "text": [
      "loss: 691.569:  65%|████████████████████████████████████████▉                      | 130/200 [1:35:11<51:06, 43.80s/it]"
     ]
    },
    {
     "name": "stdout",
     "output_type": "stream",
     "text": [
      "loss: 691.569, MAE: 7.120, RMSE: 10.511\n"
     ]
    },
    {
     "name": "stderr",
     "output_type": "stream",
     "text": [
      "loss: 693.028:  66%|█████████████████████████████████████████▎                     | 131/200 [1:35:55<50:25, 43.85s/it]"
     ]
    },
    {
     "name": "stdout",
     "output_type": "stream",
     "text": [
      "loss: 693.028, MAE: 7.094, RMSE: 10.461\n"
     ]
    },
    {
     "name": "stderr",
     "output_type": "stream",
     "text": [
      "loss: 679.124:  66%|█████████████████████████████████████████▌                     | 132/200 [1:36:39<49:54, 44.03s/it]"
     ]
    },
    {
     "name": "stdout",
     "output_type": "stream",
     "text": [
      "loss: 679.124, MAE: 7.093, RMSE: 10.467\n"
     ]
    },
    {
     "name": "stderr",
     "output_type": "stream",
     "text": [
      "loss: 682.571:  66%|█████████████████████████████████████████▉                     | 133/200 [1:37:23<49:06, 43.98s/it]"
     ]
    },
    {
     "name": "stdout",
     "output_type": "stream",
     "text": [
      "loss: 682.571, MAE: 7.101, RMSE: 10.478\n"
     ]
    },
    {
     "name": "stderr",
     "output_type": "stream",
     "text": [
      "loss: 683.502:  67%|██████████████████████████████████████████▏                    | 134/200 [1:38:07<48:22, 43.98s/it]"
     ]
    },
    {
     "name": "stdout",
     "output_type": "stream",
     "text": [
      "loss: 683.502, MAE: 7.108, RMSE: 10.499\n"
     ]
    },
    {
     "name": "stderr",
     "output_type": "stream",
     "text": [
      "loss: 682.937:  68%|██████████████████████████████████████████▌                    | 135/200 [1:38:51<47:37, 43.96s/it]"
     ]
    },
    {
     "name": "stdout",
     "output_type": "stream",
     "text": [
      "loss: 682.937, MAE: 7.092, RMSE: 10.466\n"
     ]
    },
    {
     "name": "stderr",
     "output_type": "stream",
     "text": [
      "loss: 693.296:  68%|██████████████████████████████████████████▊                    | 136/200 [1:39:35<46:50, 43.91s/it]"
     ]
    },
    {
     "name": "stdout",
     "output_type": "stream",
     "text": [
      "loss: 693.296, MAE: 7.109, RMSE: 10.484\n"
     ]
    },
    {
     "name": "stderr",
     "output_type": "stream",
     "text": [
      "loss: 696.663:  68%|███████████████████████████████████████████▏                   | 137/200 [1:40:19<46:07, 43.93s/it]"
     ]
    },
    {
     "name": "stdout",
     "output_type": "stream",
     "text": [
      "loss: 696.663, MAE: 7.115, RMSE: 10.509\n"
     ]
    },
    {
     "name": "stderr",
     "output_type": "stream",
     "text": [
      "loss: 675.743:  69%|███████████████████████████████████████████▍                   | 138/200 [1:41:03<45:21, 43.90s/it]"
     ]
    },
    {
     "name": "stdout",
     "output_type": "stream",
     "text": [
      "loss: 675.743, MAE: 7.110, RMSE: 10.480\n"
     ]
    },
    {
     "name": "stderr",
     "output_type": "stream",
     "text": [
      "loss: 708.322:  70%|███████████████████████████████████████████▊                   | 139/200 [1:41:46<44:36, 43.87s/it]"
     ]
    },
    {
     "name": "stdout",
     "output_type": "stream",
     "text": [
      "loss: 708.322, MAE: 7.106, RMSE: 10.491\n"
     ]
    },
    {
     "name": "stderr",
     "output_type": "stream",
     "text": [
      "loss: 684.801:  70%|████████████████████████████████████████████                   | 140/200 [1:42:30<43:50, 43.85s/it]"
     ]
    },
    {
     "name": "stdout",
     "output_type": "stream",
     "text": [
      "loss: 684.801, MAE: 7.105, RMSE: 10.483\n"
     ]
    },
    {
     "name": "stderr",
     "output_type": "stream",
     "text": [
      "loss: 685.078:  70%|████████████████████████████████████████████▍                  | 141/200 [1:43:14<43:08, 43.87s/it]"
     ]
    },
    {
     "name": "stdout",
     "output_type": "stream",
     "text": [
      "loss: 685.078, MAE: 7.127, RMSE: 10.524\n"
     ]
    },
    {
     "name": "stderr",
     "output_type": "stream",
     "text": [
      "loss: 677.505:  71%|████████████████████████████████████████████▋                  | 142/200 [1:43:58<42:22, 43.84s/it]"
     ]
    },
    {
     "name": "stdout",
     "output_type": "stream",
     "text": [
      "loss: 677.505, MAE: 7.113, RMSE: 10.496\n"
     ]
    },
    {
     "name": "stderr",
     "output_type": "stream",
     "text": [
      "loss: 672.103:  72%|█████████████████████████████████████████████                  | 143/200 [1:44:42<41:40, 43.86s/it]"
     ]
    },
    {
     "name": "stdout",
     "output_type": "stream",
     "text": [
      "loss: 672.103, MAE: 7.113, RMSE: 10.490\n"
     ]
    },
    {
     "name": "stderr",
     "output_type": "stream",
     "text": [
      "loss: 681.561:  72%|█████████████████████████████████████████████▎                 | 144/200 [1:45:26<40:55, 43.84s/it]"
     ]
    },
    {
     "name": "stdout",
     "output_type": "stream",
     "text": [
      "loss: 681.561, MAE: 7.133, RMSE: 10.521\n"
     ]
    },
    {
     "name": "stderr",
     "output_type": "stream",
     "text": [
      "loss: 687.685:  72%|█████████████████████████████████████████████▋                 | 145/200 [1:46:10<40:11, 43.84s/it]"
     ]
    },
    {
     "name": "stdout",
     "output_type": "stream",
     "text": [
      "loss: 687.685, MAE: 7.084, RMSE: 10.459\n"
     ]
    },
    {
     "name": "stderr",
     "output_type": "stream",
     "text": [
      "loss: 678.251:  73%|█████████████████████████████████████████████▉                 | 146/200 [1:46:53<39:28, 43.86s/it]"
     ]
    },
    {
     "name": "stdout",
     "output_type": "stream",
     "text": [
      "loss: 678.251, MAE: 7.119, RMSE: 10.506\n"
     ]
    },
    {
     "name": "stderr",
     "output_type": "stream",
     "text": [
      "loss: 672.812:  74%|██████████████████████████████████████████████▎                | 147/200 [1:47:37<38:42, 43.82s/it]"
     ]
    },
    {
     "name": "stdout",
     "output_type": "stream",
     "text": [
      "loss: 672.812, MAE: 7.113, RMSE: 10.507\n"
     ]
    },
    {
     "name": "stderr",
     "output_type": "stream",
     "text": [
      "loss: 677.994:  74%|██████████████████████████████████████████████▌                | 148/200 [1:48:21<37:59, 43.84s/it]"
     ]
    },
    {
     "name": "stdout",
     "output_type": "stream",
     "text": [
      "loss: 677.994, MAE: 7.125, RMSE: 10.510\n"
     ]
    },
    {
     "name": "stderr",
     "output_type": "stream",
     "text": [
      "loss: 680.953:  74%|██████████████████████████████████████████████▉                | 149/200 [1:49:05<37:15, 43.84s/it]"
     ]
    },
    {
     "name": "stdout",
     "output_type": "stream",
     "text": [
      "loss: 680.953, MAE: 7.103, RMSE: 10.486\n"
     ]
    },
    {
     "name": "stderr",
     "output_type": "stream",
     "text": [
      "loss: 675.940:  75%|███████████████████████████████████████████████▎               | 150/200 [1:49:49<36:34, 43.89s/it]"
     ]
    },
    {
     "name": "stdout",
     "output_type": "stream",
     "text": [
      "loss: 675.940, MAE: 7.110, RMSE: 10.496\n"
     ]
    },
    {
     "name": "stderr",
     "output_type": "stream",
     "text": [
      "loss: 665.068:  76%|███████████████████████████████████████████████▌               | 151/200 [1:50:33<35:49, 43.88s/it]"
     ]
    },
    {
     "name": "stdout",
     "output_type": "stream",
     "text": [
      "loss: 665.068, MAE: 7.097, RMSE: 10.483\n"
     ]
    },
    {
     "name": "stderr",
     "output_type": "stream",
     "text": [
      "loss: 683.651:  76%|███████████████████████████████████████████████▉               | 152/200 [1:51:17<35:05, 43.86s/it]"
     ]
    },
    {
     "name": "stdout",
     "output_type": "stream",
     "text": [
      "loss: 683.651, MAE: 7.088, RMSE: 10.456\n"
     ]
    },
    {
     "name": "stderr",
     "output_type": "stream",
     "text": [
      "loss: 674.728:  76%|████████████████████████████████████████████████▏              | 153/200 [1:52:00<34:22, 43.88s/it]"
     ]
    },
    {
     "name": "stdout",
     "output_type": "stream",
     "text": [
      "loss: 674.728, MAE: 7.094, RMSE: 10.476\n"
     ]
    },
    {
     "name": "stderr",
     "output_type": "stream",
     "text": [
      "loss: 684.900:  77%|████████████████████████████████████████████████▌              | 154/200 [1:52:44<33:38, 43.89s/it]"
     ]
    },
    {
     "name": "stdout",
     "output_type": "stream",
     "text": [
      "loss: 684.900, MAE: 7.096, RMSE: 10.470\n"
     ]
    },
    {
     "name": "stderr",
     "output_type": "stream",
     "text": [
      "loss: 678.484:  78%|████████████████████████████████████████████████▊              | 155/200 [1:53:28<32:51, 43.81s/it]"
     ]
    },
    {
     "name": "stdout",
     "output_type": "stream",
     "text": [
      "loss: 678.484, MAE: 7.102, RMSE: 10.470\n"
     ]
    },
    {
     "name": "stderr",
     "output_type": "stream",
     "text": [
      "loss: 671.654:  78%|█████████████████████████████████████████████████▏             | 156/200 [1:54:12<32:12, 43.92s/it]"
     ]
    },
    {
     "name": "stdout",
     "output_type": "stream",
     "text": [
      "loss: 671.654, MAE: 7.106, RMSE: 10.486\n"
     ]
    },
    {
     "name": "stderr",
     "output_type": "stream",
     "text": [
      "loss: 670.497:  78%|█████████████████████████████████████████████████▍             | 157/200 [1:54:56<31:27, 43.90s/it]"
     ]
    },
    {
     "name": "stdout",
     "output_type": "stream",
     "text": [
      "loss: 670.497, MAE: 7.127, RMSE: 10.501\n"
     ]
    },
    {
     "name": "stderr",
     "output_type": "stream",
     "text": [
      "loss: 704.826:  79%|█████████████████████████████████████████████████▊             | 158/200 [1:55:40<30:45, 43.94s/it]"
     ]
    },
    {
     "name": "stdout",
     "output_type": "stream",
     "text": [
      "loss: 704.826, MAE: 7.119, RMSE: 10.497\n"
     ]
    },
    {
     "name": "stderr",
     "output_type": "stream",
     "text": [
      "loss: 664.154:  80%|██████████████████████████████████████████████████             | 159/200 [1:56:24<29:59, 43.89s/it]"
     ]
    },
    {
     "name": "stdout",
     "output_type": "stream",
     "text": [
      "loss: 664.154, MAE: 7.109, RMSE: 10.501\n"
     ]
    },
    {
     "name": "stderr",
     "output_type": "stream",
     "text": [
      "loss: 684.719:  80%|██████████████████████████████████████████████████▍            | 160/200 [1:57:08<29:13, 43.85s/it]"
     ]
    },
    {
     "name": "stdout",
     "output_type": "stream",
     "text": [
      "loss: 684.719, MAE: 7.102, RMSE: 10.471\n"
     ]
    },
    {
     "name": "stderr",
     "output_type": "stream",
     "text": [
      "loss: 676.193:  80%|██████████████████████████████████████████████████▋            | 161/200 [1:57:51<28:29, 43.84s/it]"
     ]
    },
    {
     "name": "stdout",
     "output_type": "stream",
     "text": [
      "loss: 676.193, MAE: 7.102, RMSE: 10.476\n"
     ]
    },
    {
     "name": "stderr",
     "output_type": "stream",
     "text": [
      "loss: 678.210:  81%|███████████████████████████████████████████████████            | 162/200 [1:58:35<27:43, 43.79s/it]"
     ]
    },
    {
     "name": "stdout",
     "output_type": "stream",
     "text": [
      "loss: 678.210, MAE: 7.110, RMSE: 10.499\n"
     ]
    },
    {
     "name": "stderr",
     "output_type": "stream",
     "text": [
      "loss: 664.050:  82%|███████████████████████████████████████████████████▎           | 163/200 [1:59:19<26:59, 43.76s/it]"
     ]
    },
    {
     "name": "stdout",
     "output_type": "stream",
     "text": [
      "loss: 664.050, MAE: 7.121, RMSE: 10.508\n"
     ]
    },
    {
     "name": "stderr",
     "output_type": "stream",
     "text": [
      "loss: 690.859:  82%|███████████████████████████████████████████████████▋           | 164/200 [2:00:03<26:15, 43.77s/it]"
     ]
    },
    {
     "name": "stdout",
     "output_type": "stream",
     "text": [
      "loss: 690.859, MAE: 7.089, RMSE: 10.464\n"
     ]
    },
    {
     "name": "stderr",
     "output_type": "stream",
     "text": [
      "loss: 684.948:  82%|███████████████████████████████████████████████████▉           | 165/200 [2:00:47<25:35, 43.86s/it]"
     ]
    },
    {
     "name": "stdout",
     "output_type": "stream",
     "text": [
      "loss: 684.948, MAE: 7.104, RMSE: 10.479\n"
     ]
    },
    {
     "name": "stderr",
     "output_type": "stream",
     "text": [
      "loss: 670.323:  83%|████████████████████████████████████████████████████▎          | 166/200 [2:01:30<24:49, 43.81s/it]"
     ]
    },
    {
     "name": "stdout",
     "output_type": "stream",
     "text": [
      "loss: 670.323, MAE: 7.082, RMSE: 10.459\n"
     ]
    },
    {
     "name": "stderr",
     "output_type": "stream",
     "text": [
      "loss: 668.627:  84%|████████████████████████████████████████████████████▌          | 167/200 [2:02:14<24:07, 43.86s/it]"
     ]
    },
    {
     "name": "stdout",
     "output_type": "stream",
     "text": [
      "loss: 668.627, MAE: 7.105, RMSE: 10.477\n"
     ]
    },
    {
     "name": "stderr",
     "output_type": "stream",
     "text": [
      "loss: 680.532:  84%|████████████████████████████████████████████████████▉          | 168/200 [2:02:58<23:23, 43.84s/it]"
     ]
    },
    {
     "name": "stdout",
     "output_type": "stream",
     "text": [
      "loss: 680.532, MAE: 7.119, RMSE: 10.498\n"
     ]
    },
    {
     "name": "stderr",
     "output_type": "stream",
     "text": [
      "loss: 669.810:  84%|█████████████████████████████████████████████████████▏         | 169/200 [2:03:42<22:38, 43.83s/it]"
     ]
    },
    {
     "name": "stdout",
     "output_type": "stream",
     "text": [
      "loss: 669.810, MAE: 7.103, RMSE: 10.486\n"
     ]
    },
    {
     "name": "stderr",
     "output_type": "stream",
     "text": [
      "loss: 671.890:  85%|█████████████████████████████████████████████████████▌         | 170/200 [2:04:26<21:54, 43.83s/it]"
     ]
    },
    {
     "name": "stdout",
     "output_type": "stream",
     "text": [
      "loss: 671.890, MAE: 7.109, RMSE: 10.485\n"
     ]
    },
    {
     "name": "stderr",
     "output_type": "stream",
     "text": [
      "loss: 679.800:  86%|█████████████████████████████████████████████████████▊         | 171/200 [2:05:10<21:11, 43.83s/it]"
     ]
    },
    {
     "name": "stdout",
     "output_type": "stream",
     "text": [
      "loss: 679.800, MAE: 7.098, RMSE: 10.473\n"
     ]
    },
    {
     "name": "stderr",
     "output_type": "stream",
     "text": [
      "loss: 666.895:  86%|██████████████████████████████████████████████████████▏        | 172/200 [2:05:53<20:28, 43.86s/it]"
     ]
    },
    {
     "name": "stdout",
     "output_type": "stream",
     "text": [
      "loss: 666.895, MAE: 7.089, RMSE: 10.462\n"
     ]
    },
    {
     "name": "stderr",
     "output_type": "stream",
     "text": [
      "loss: 677.277:  86%|██████████████████████████████████████████████████████▍        | 173/200 [2:06:38<19:48, 44.03s/it]"
     ]
    },
    {
     "name": "stdout",
     "output_type": "stream",
     "text": [
      "loss: 677.277, MAE: 7.107, RMSE: 10.488\n"
     ]
    },
    {
     "name": "stderr",
     "output_type": "stream",
     "text": [
      "loss: 667.062:  87%|██████████████████████████████████████████████████████▊        | 174/200 [2:07:22<19:03, 43.97s/it]"
     ]
    },
    {
     "name": "stdout",
     "output_type": "stream",
     "text": [
      "loss: 667.062, MAE: 7.114, RMSE: 10.499\n"
     ]
    },
    {
     "name": "stderr",
     "output_type": "stream",
     "text": [
      "loss: 670.023:  88%|███████████████████████████████████████████████████████▏       | 175/200 [2:08:06<18:19, 43.98s/it]"
     ]
    },
    {
     "name": "stdout",
     "output_type": "stream",
     "text": [
      "loss: 670.023, MAE: 7.116, RMSE: 10.505\n"
     ]
    },
    {
     "name": "stderr",
     "output_type": "stream",
     "text": [
      "loss: 670.803:  88%|███████████████████████████████████████████████████████▍       | 176/200 [2:08:50<17:34, 43.94s/it]"
     ]
    },
    {
     "name": "stdout",
     "output_type": "stream",
     "text": [
      "loss: 670.803, MAE: 7.100, RMSE: 10.483\n"
     ]
    },
    {
     "name": "stderr",
     "output_type": "stream",
     "text": [
      "loss: 676.154:  88%|███████████████████████████████████████████████████████▊       | 177/200 [2:09:34<16:51, 43.96s/it]"
     ]
    },
    {
     "name": "stdout",
     "output_type": "stream",
     "text": [
      "loss: 676.154, MAE: 7.118, RMSE: 10.503\n"
     ]
    },
    {
     "name": "stderr",
     "output_type": "stream",
     "text": [
      "loss: 669.181:  89%|████████████████████████████████████████████████████████       | 178/200 [2:10:18<16:07, 43.96s/it]"
     ]
    },
    {
     "name": "stdout",
     "output_type": "stream",
     "text": [
      "loss: 669.181, MAE: 7.093, RMSE: 10.469\n"
     ]
    },
    {
     "name": "stderr",
     "output_type": "stream",
     "text": [
      "loss: 671.072:  90%|████████████████████████████████████████████████████████▍      | 179/200 [2:11:01<15:21, 43.89s/it]"
     ]
    },
    {
     "name": "stdout",
     "output_type": "stream",
     "text": [
      "loss: 671.072, MAE: 7.113, RMSE: 10.494\n"
     ]
    },
    {
     "name": "stderr",
     "output_type": "stream",
     "text": [
      "loss: 665.673:  90%|████████████████████████████████████████████████████████▋      | 180/200 [2:11:45<14:37, 43.87s/it]"
     ]
    },
    {
     "name": "stdout",
     "output_type": "stream",
     "text": [
      "loss: 665.673, MAE: 7.111, RMSE: 10.490\n"
     ]
    },
    {
     "name": "stderr",
     "output_type": "stream",
     "text": [
      "loss: 661.708:  90%|█████████████████████████████████████████████████████████      | 181/200 [2:12:29<13:53, 43.85s/it]"
     ]
    },
    {
     "name": "stdout",
     "output_type": "stream",
     "text": [
      "loss: 661.708, MAE: 7.104, RMSE: 10.483\n"
     ]
    },
    {
     "name": "stderr",
     "output_type": "stream",
     "text": [
      "loss: 668.706:  91%|█████████████████████████████████████████████████████████▎     | 182/200 [2:13:13<13:09, 43.86s/it]"
     ]
    },
    {
     "name": "stdout",
     "output_type": "stream",
     "text": [
      "loss: 668.706, MAE: 7.093, RMSE: 10.469\n"
     ]
    },
    {
     "name": "stderr",
     "output_type": "stream",
     "text": [
      "loss: 668.025:  92%|█████████████████████████████████████████████████████████▋     | 183/200 [2:13:57<12:25, 43.85s/it]"
     ]
    },
    {
     "name": "stdout",
     "output_type": "stream",
     "text": [
      "loss: 668.025, MAE: 7.090, RMSE: 10.459\n"
     ]
    },
    {
     "name": "stderr",
     "output_type": "stream",
     "text": [
      "loss: 674.912:  92%|█████████████████████████████████████████████████████████▉     | 184/200 [2:14:41<11:41, 43.86s/it]"
     ]
    },
    {
     "name": "stdout",
     "output_type": "stream",
     "text": [
      "loss: 674.912, MAE: 7.079, RMSE: 10.440\n"
     ]
    },
    {
     "name": "stderr",
     "output_type": "stream",
     "text": [
      "loss: 673.130:  92%|██████████████████████████████████████████████████████████▎    | 185/200 [2:15:24<10:58, 43.88s/it]"
     ]
    },
    {
     "name": "stdout",
     "output_type": "stream",
     "text": [
      "loss: 673.130, MAE: 7.099, RMSE: 10.476\n"
     ]
    },
    {
     "name": "stderr",
     "output_type": "stream",
     "text": [
      "loss: 661.219:  93%|██████████████████████████████████████████████████████████▌    | 186/200 [2:16:08<10:14, 43.88s/it]"
     ]
    },
    {
     "name": "stdout",
     "output_type": "stream",
     "text": [
      "loss: 661.219, MAE: 7.093, RMSE: 10.466\n"
     ]
    },
    {
     "name": "stderr",
     "output_type": "stream",
     "text": [
      "loss: 659.550:  94%|██████████████████████████████████████████████████████████▉    | 187/200 [2:16:52<09:29, 43.84s/it]"
     ]
    },
    {
     "name": "stdout",
     "output_type": "stream",
     "text": [
      "loss: 659.550, MAE: 7.111, RMSE: 10.489\n"
     ]
    },
    {
     "name": "stderr",
     "output_type": "stream",
     "text": [
      "loss: 668.441:  94%|███████████████████████████████████████████████████████████▏   | 188/200 [2:17:36<08:45, 43.82s/it]"
     ]
    },
    {
     "name": "stdout",
     "output_type": "stream",
     "text": [
      "loss: 668.441, MAE: 7.109, RMSE: 10.481\n"
     ]
    },
    {
     "name": "stderr",
     "output_type": "stream",
     "text": [
      "loss: 661.400:  94%|███████████████████████████████████████████████████████████▌   | 189/200 [2:18:20<08:02, 43.86s/it]"
     ]
    },
    {
     "name": "stdout",
     "output_type": "stream",
     "text": [
      "loss: 661.400, MAE: 7.102, RMSE: 10.482\n"
     ]
    },
    {
     "name": "stderr",
     "output_type": "stream",
     "text": [
      "loss: 662.815:  95%|███████████████████████████████████████████████████████████▊   | 190/200 [2:19:04<07:18, 43.87s/it]"
     ]
    },
    {
     "name": "stdout",
     "output_type": "stream",
     "text": [
      "loss: 662.815, MAE: 7.100, RMSE: 10.474\n"
     ]
    },
    {
     "name": "stderr",
     "output_type": "stream",
     "text": [
      "loss: 671.649:  96%|████████████████████████████████████████████████████████████▏  | 191/200 [2:19:48<06:34, 43.88s/it]"
     ]
    },
    {
     "name": "stdout",
     "output_type": "stream",
     "text": [
      "loss: 671.649, MAE: 7.149, RMSE: 10.541\n"
     ]
    },
    {
     "name": "stderr",
     "output_type": "stream",
     "text": [
      "loss: 670.009:  96%|████████████████████████████████████████████████████████████▍  | 192/200 [2:20:31<05:51, 43.88s/it]"
     ]
    },
    {
     "name": "stdout",
     "output_type": "stream",
     "text": [
      "loss: 670.009, MAE: 7.088, RMSE: 10.466\n"
     ]
    },
    {
     "name": "stderr",
     "output_type": "stream",
     "text": [
      "loss: 684.395:  96%|████████████████████████████████████████████████████████████▊  | 193/200 [2:21:15<05:07, 43.86s/it]"
     ]
    },
    {
     "name": "stdout",
     "output_type": "stream",
     "text": [
      "loss: 684.395, MAE: 7.093, RMSE: 10.457\n"
     ]
    },
    {
     "name": "stderr",
     "output_type": "stream",
     "text": [
      "loss: 677.926:  97%|█████████████████████████████████████████████████████████████  | 194/200 [2:21:59<04:23, 43.85s/it]"
     ]
    },
    {
     "name": "stdout",
     "output_type": "stream",
     "text": [
      "loss: 677.926, MAE: 7.109, RMSE: 10.482\n"
     ]
    },
    {
     "name": "stderr",
     "output_type": "stream",
     "text": [
      "loss: 683.889:  98%|█████████████████████████████████████████████████████████████▍ | 195/200 [2:22:43<03:39, 43.86s/it]"
     ]
    },
    {
     "name": "stdout",
     "output_type": "stream",
     "text": [
      "loss: 683.889, MAE: 7.116, RMSE: 10.494\n"
     ]
    },
    {
     "name": "stderr",
     "output_type": "stream",
     "text": [
      "loss: 664.199:  98%|█████████████████████████████████████████████████████████████▋ | 196/200 [2:23:27<02:55, 43.85s/it]"
     ]
    },
    {
     "name": "stdout",
     "output_type": "stream",
     "text": [
      "loss: 664.199, MAE: 7.097, RMSE: 10.471\n"
     ]
    },
    {
     "name": "stderr",
     "output_type": "stream",
     "text": [
      "loss: 681.829:  98%|██████████████████████████████████████████████████████████████ | 197/200 [2:24:11<02:11, 43.87s/it]"
     ]
    },
    {
     "name": "stdout",
     "output_type": "stream",
     "text": [
      "loss: 681.829, MAE: 7.060, RMSE: 10.427\n"
     ]
    },
    {
     "name": "stderr",
     "output_type": "stream",
     "text": [
      "loss: 654.895:  99%|██████████████████████████████████████████████████████████████▎| 198/200 [2:24:55<01:27, 43.86s/it]"
     ]
    },
    {
     "name": "stdout",
     "output_type": "stream",
     "text": [
      "loss: 654.895, MAE: 7.089, RMSE: 10.459\n"
     ]
    },
    {
     "name": "stderr",
     "output_type": "stream",
     "text": [
      "loss: 668.943: 100%|██████████████████████████████████████████████████████████████▋| 199/200 [2:25:38<00:43, 43.84s/it]"
     ]
    },
    {
     "name": "stdout",
     "output_type": "stream",
     "text": [
      "loss: 668.943, MAE: 7.081, RMSE: 10.440\n"
     ]
    },
    {
     "name": "stderr",
     "output_type": "stream",
     "text": [
      "loss: 663.203: 100%|███████████████████████████████████████████████████████████████| 200/200 [2:26:22<00:00, 43.91s/it]"
     ]
    },
    {
     "name": "stdout",
     "output_type": "stream",
     "text": [
      "loss: 663.203, MAE: 7.120, RMSE: 10.498\n"
     ]
    },
    {
     "name": "stderr",
     "output_type": "stream",
     "text": [
      "\n"
     ]
    },
    {
     "name": "stdout",
     "output_type": "stream",
     "text": [
      "\n",
      "Test MAE: 5.617, Test RMSE: 8.467, R-squared: 0.801, Cor: 0.896\n"
     ]
    }
   ],
   "source": [
    "import nbimporter\n",
    "import copy\n",
    "import torch\n",
    "import torch.nn as nn\n",
    "import torch.nn.functional as F\n",
    "import torch.optim as optim\n",
    "from torch.optim.lr_scheduler import StepLR\n",
    "\n",
    "import numpy as np\n",
    "import pandas as pd\n",
    "from sklearn.preprocessing import StandardScaler\n",
    "from sklearn.metrics import r2_score\n",
    "from tqdm import tqdm\n",
    "import copy\n",
    "import time\n",
    "import utils\n",
    "import warnings\n",
    "import rits_i\n",
    "import brits_i\n",
    "import rits\n",
    "import brits\n",
    "import argparse\n",
    "import easydict\n",
    "import data_loader\n",
    "import pandas as pd\n",
    "import ujson as json\n",
    "\n",
    "from sklearn import metrics\n",
    "\n",
    "from ipdb import set_trace\n",
    "\n",
    "# easydict version\n",
    "args = easydict.EasyDict({\n",
    "    \"epochs\": 200,\n",
    "    \"batch_size\": 32,\n",
    "    \"model\":\"model\"\n",
    "})\n",
    "\n",
    "def train_test(model):\n",
    "    optimizer = optim.Adam(model.parameters(), lr = 1e-3)\n",
    "    data_iter = data_loader.get_loader(file = \"E:/Python/tr_seoul.json\", batch_size = args.batch_size)\n",
    "    output=False\n",
    "    \n",
    "    prog = tqdm(range(args.epochs))\n",
    "    result=[]\n",
    "    \n",
    "    for i in prog:\n",
    "        model.train()\n",
    "        run_loss = 0.0\n",
    "        \n",
    "        for idx, data in enumerate(data_iter):\n",
    "            data = utils.to_var(data)\n",
    "            ret = model.run_on_batch(data, optimizer,48)\n",
    "            run_loss += ret['loss'].data\n",
    "            \n",
    "            prog.set_description(\"loss: {:0.3f}\".format(run_loss))\n",
    "\n",
    "        result=evaluate(model, data_iter)\n",
    "#         prog.set_description(\"loss: {:0.3f}, MAE: {:0.3f}, RMSE: {:0.3f}\".format(run_loss,result['MAE'],result[\"RMSE\"]))\n",
    "        print(\"loss: {:0.3f}, MAE: {:0.3f}, RMSE: {:0.3f}\".format(run_loss,result['MAE'],result[\"RMSE\"])) # temp\n",
    "    \n",
    "#     print(result)\n",
    "    \n",
    "    data_iter = data_loader.get_loader(file = \"E:/Python/te_seoul.json\", batch_size = args.batch_size)\n",
    "    output=True\n",
    "    test_result=evaluate(model, data_iter,predict=output, testmode=True)\n",
    "    \n",
    "    return(test_result)\n",
    "\n",
    "def evaluate(model, val_iter, predict=False, testmode=False):\n",
    "#     model.eval()\n",
    "\n",
    "    evals = []\n",
    "    imputations = []\n",
    "    arr_imp = np.array(1)\n",
    "    \n",
    "    with torch.no_grad():\n",
    "        model.eval()\n",
    "        for idx, data in enumerate(val_iter):\n",
    "            data = utils.to_var(data)\n",
    "            if testmode==True : ret = model.run_on_batch(data, None, 24)\n",
    "            else : ret = model.run_on_batch(data, None, 48)\n",
    "\n",
    "            eval_masks = ret['eval_masks'].data.cpu().numpy()\n",
    "            eval_ = ret['evals'].data.cpu().numpy()\n",
    "            imputation = ret['imputations'].data.cpu().numpy()\n",
    "            evals += eval_[np.where(eval_masks == 1)].tolist()\n",
    "            imputations += imputation[np.where(eval_masks == 1)].tolist()\n",
    "\n",
    "            if idx==0: arr_imp=copy.deepcopy(imputation.squeeze())\n",
    "            else: arr_imp = np.concatenate((arr_imp,imputation.squeeze()),axis=0)\n",
    "\n",
    "        evals = np.asarray(evals)\n",
    "        imputations = np.asarray(imputations)\n",
    "        r2 = r2_score(evals,imputations)\n",
    "        cor = np.corrcoef(evals,imputations)[0, 1]\n",
    "\n",
    "    result={\"MAE\":np.abs(evals - imputations).mean(),\"RMSE\":np.sqrt(np.mean((evals - imputations)**2)), \"R2\":r2, \"Cor\":cor}\n",
    "    \n",
    "    if testmode: \n",
    "        print(\"\\nTest MAE: {:0.3f}, Test RMSE: {:0.3f}, R-squared: {:0.3f}, Cor: {:0.3f}\".format(result['MAE'],result[\"RMSE\"],result[\"R2\"],result['Cor']))\n",
    "#         if predict: predict_result(arr_imp)\n",
    "    \n",
    "    return(result)\n",
    "\n",
    "def predict_result(impute_map, tp):\n",
    "    imputation = np.array(evaluate(model, val_iter,1))\n",
    "    df = pd.read_csv(\"E:/데이터모음/대기오염/preprocess/seoul_pm25.csv\")\n",
    "\n",
    "    print(df.shape)\n",
    "    print(imputation.shape)\n",
    "    \n",
    "    if tp==0 : md=\"rits_i\" \n",
    "    elif tp==1 : md = \"brits_i\"\n",
    "    elif tp==2 : md = \"rits\"\n",
    "    else : md = \"brits\"\n",
    "        \n",
    "    colnm = [\"111121\",\"111123\",\"111131\",\"111141\",\"111142\",\"111151\",\"111152\",\"111161\",\"111171\",\"111181\",\"111191\",\n",
    "             \"111201\",\"111212\",\"111221\",\"111231\",\"111241\",\"111251\",\"111261\",\"111262\",\"111273\",\"111274\",\"111281\",\n",
    "             \"111291\",\"111301\",\"111311\"]\n",
    "    pd.DataFrame(dff,columns=colnm, index=df.iloc[:,1]).to_csv('E:/데이터모음/대기오염/preprocess/new_impute_{}.csv'.format(md), sep=',', na_rep='NaN')\n",
    "    print(\"predict_out\")\n",
    "    return 0\n",
    "\n",
    "def parse_delta(masks, dir_):\n",
    "    if dir_ == 'backward':\n",
    "        masks = masks[::-1]\n",
    "\n",
    "    deltas = []\n",
    "\n",
    "    for h in range(masks.shape[1]):\n",
    "        if h == 0:\n",
    "            deltas.append(1)\n",
    "        else:\n",
    "            deltas.append(1 + (1 - masks[0,h]) * deltas[-1])\n",
    "\n",
    "    return np.array(deltas)\n",
    "\n",
    "def parse_rec(values, masks, evals, eval_masks, dir_):\n",
    "    deltas = parse_delta(masks, dir_)\n",
    "\n",
    "    # only used in GRU-D\n",
    "#     forwards = pd.DataFrame(values).fillna(method='ffill').fillna(0.0).values\n",
    "\n",
    "    values = np.array(values,dtype=float)\n",
    "    values[np.isnan(values)] = 0\n",
    "    evals = np.array(evals,dtype=float)\n",
    "    evals[np.isnan(evals)] = 0\n",
    "    \n",
    "    rec = {}\n",
    "    rec['values'] = values.tolist()[0]\n",
    "    rec['masks'] = masks.astype('int32').tolist()[0]\n",
    "    rec['evals'] = evals.tolist()[0]\n",
    "    rec['eval_masks'] = eval_masks.astype('int32').tolist()[0]\n",
    "    rec['deltas'] = deltas.tolist()\n",
    "    \n",
    "    return rec\n",
    "\n",
    "def makedata(tr_scale_df_path, tr_scale_df_miss_path,te_scale_df_path, te_scale_df_miss_path):\n",
    "    tr_scale_df = pd.read_csv(tr_scale_df_path)\n",
    "    tr_scale_df_miss = pd.read_csv(tr_scale_df_miss_path)\n",
    "    te_scale_df = pd.read_csv(te_scale_df_path)\n",
    "    te_scale_df_miss = pd.read_csv(te_scale_df_miss_path)\n",
    "    tr_length = int(tr_scale_df.shape[0])\n",
    "    te_length = int(te_scale_df.shape[0])\n",
    "    \n",
    "    ######### train json file composition\n",
    "    # seq_len = 48, rows = 548\n",
    "    # evals = tr_scale_df, values = tr_scale_df_miss\n",
    "\n",
    "    fs = open('E:/Python/tr_seoul.json', 'w')\n",
    "    \n",
    "    tr_nrow = 548\n",
    "    for i in range(tr_nrow):\n",
    "        rec={}\n",
    "        f_list, b_list = [[] for i in range(2)]\n",
    "        for j in range(int(tr_length/tr_nrow)):\n",
    "#             evals,values=[[] for i in range(2)]\n",
    "            evals=[]; values=[]\n",
    "            evals.append(tr_scale_df.iloc[j+int(tr_length/tr_nrow)*i,range(2,27)])\n",
    "            values.append(tr_scale_df_miss.iloc[j+int(tr_length/tr_nrow)*i,range(2,27)])\n",
    "\n",
    "            shp = np.array(evals).shape # do we need this variable?\n",
    "            masks = ~np.isnan(np.array(values,dtype=np.float))\n",
    "            eval_masks = (~np.isnan(np.array(values,dtype=np.float))) ^ (~np.isnan(np.array(evals,dtype=np.float)))\n",
    "            \n",
    "            masks = masks.reshape(shp)\n",
    "            eval_masks = eval_masks.reshape(shp)\n",
    "            \n",
    "            # prepare the model for both directions\n",
    "            f_list.append(parse_rec(values, masks, evals, eval_masks, dir_='forward'))\n",
    "            b_list.append(parse_rec(values[::-1], masks[::-1], evals[::-1], eval_masks[::-1], dir_='backward'))\n",
    "\n",
    "        rec[\"forward\"] = f_list; rec[\"backward\"] = b_list\n",
    "        rec = json.dumps(rec)\n",
    "        \n",
    "        fs.write(rec)\n",
    "        fs.write(\"\\n\")\n",
    "        \n",
    "    print(\"tr_seoul\")\n",
    "    fs.close()\n",
    "    \n",
    "    ######### test json file composition\n",
    "    # seq_len = 24, rows = 365\n",
    "    # evals = te_scale_df, values = te_scale_df_miss\n",
    "    \n",
    "    fs = open('E:/Python/te_seoul.json', 'w')\n",
    "    \n",
    "    te_nrow = 365\n",
    "    for i in range(te_nrow):\n",
    "        rec={}\n",
    "        f_list, b_list = [[] for i in range(2)]\n",
    "        for j in range(int(te_length/te_nrow)):\n",
    "            evals=[]; values=[]\n",
    "            evals.append(te_scale_df.iloc[j+int(te_length/te_nrow)*i,range(2,27)])\n",
    "            values.append(te_scale_df_miss.iloc[j+int(te_length/te_nrow)*i,range(2,27)])\n",
    "\n",
    "            shp = np.array(evals).shape # do we need this variable?\n",
    "            masks = ~np.isnan(np.array(values,dtype=np.float))\n",
    "            eval_masks = (~np.isnan(np.array(values,dtype=np.float))) ^ (~np.isnan(np.array(evals,dtype=np.float)))\n",
    "            \n",
    "            masks = masks.reshape(shp)\n",
    "            eval_masks = eval_masks.reshape(shp)\n",
    "            \n",
    "            # prepare the model for both directions\n",
    "            f_list.append(parse_rec(values, masks, evals, eval_masks, dir_='forward'))\n",
    "            b_list.append(parse_rec(values[::-1], masks[::-1], evals[::-1], eval_masks[::-1], dir_='backward'))\n",
    "\n",
    "        rec[\"forward\"] = f_list; rec[\"backward\"] = b_list\n",
    "        rec = json.dumps(rec)\n",
    "        \n",
    "        fs.write(rec)\n",
    "        fs.write(\"\\n\")\n",
    "        \n",
    "    print(\"te_seoul\")\n",
    "    fs.close()\n",
    "    \n",
    "    return tr_length\n",
    "\n",
    "def run():\n",
    "    warnings.filterwarnings(action='ignore')\n",
    "\n",
    "    # 1) PM2.5\n",
    "    makedata('E:/데이터모음/대기오염/preprocess/tr_seoul_pm25.csv',\n",
    "             'E:/데이터모음/대기오염/preprocess/tr_seoul_pm25_miss.csv',\n",
    "             'E:/데이터모음/대기오염/preprocess/te_seoul_pm25.csv',\n",
    "             'E:/데이터모음/대기오염/preprocess/te_seoul_pm25_miss.csv')\n",
    "    # 2) PM10\n",
    "#             makedata('E:/데이터모음/대기오염/preprocess/scale_seoul_pm10.csv','E:/데이터모음/대기오염/preprocess/scale_seoul_pm10_miss.csv')        \n",
    "    for j in range(2):\n",
    "        if j==0 : \n",
    "            model = rits.Model()\n",
    "            print(\"\\nrits\")\n",
    "        else : \n",
    "            model = brits.Model()\n",
    "            print(\"\\nbrits\")\n",
    "\n",
    "        if torch.cuda.is_available():\n",
    "            model = model.cuda()\n",
    "        \n",
    "        train_test(model)\n",
    "        \n",
    "\n",
    "if __name__ == '__main__':\n",
    "    run()\n"
   ]
  }
 ],
 "metadata": {
  "kernelspec": {
   "display_name": "Python 3 (ipykernel)",
   "language": "python",
   "name": "python3"
  },
  "language_info": {
   "codemirror_mode": {
    "name": "ipython",
    "version": 3
   },
   "file_extension": ".py",
   "mimetype": "text/x-python",
   "name": "python",
   "nbconvert_exporter": "python",
   "pygments_lexer": "ipython3",
   "version": "3.9.7"
  }
 },
 "nbformat": 4,
 "nbformat_minor": 5
}
